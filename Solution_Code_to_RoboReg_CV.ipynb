{
  "nbformat": 4,
  "nbformat_minor": 0,
  "metadata": {
    "colab": {
      "provenance": [],
      "authorship_tag": "ABX9TyOb4hB76okwpoVcn8txYUIF",
      "include_colab_link": true
    },
    "kernelspec": {
      "name": "python3",
      "display_name": "Python 3"
    },
    "language_info": {
      "name": "python"
    }
  },
  "cells": [
    {
      "cell_type": "markdown",
      "metadata": {
        "id": "view-in-github",
        "colab_type": "text"
      },
      "source": [
        "<a href=\"https://colab.research.google.com/github/HappyGithub-dev/Pruning_Network/blob/main/Solution_Code_to_RoboReg_CV.ipynb\" target=\"_parent\"><img src=\"https://colab.research.google.com/assets/colab-badge.svg\" alt=\"Open In Colab\"/></a>"
      ]
    },
    {
      "cell_type": "code",
      "source": [],
      "metadata": {
        "id": "NWuEz4ROrSQJ"
      },
      "execution_count": null,
      "outputs": []
    },
    {
      "cell_type": "code",
      "source": [
        "## Import all necessary libraries\n",
        "import torch\n",
        "import torch.nn as nn\n",
        "import torch.nn.functional as F\n",
        "from torch.utils.data import DataLoader\n",
        "from torchvision import datasets, transforms\n",
        "\n",
        "import numpy as np\n",
        "import pandas as pd\n",
        "from sklearn.metrics import confusion_matrix\n",
        "import matplotlib.pyplot as plt\n",
        "%matplotlib inline\n",
        "\n",
        "# Data loading\n",
        "transform = transforms.ToTensor()\n",
        "train_data = datasets.MNIST(root='../data', train=True, download=True, transform=transform)\n",
        "test_data = datasets.MNIST(root='../data', train=False, download=True, transform=transform)\n",
        "\n",
        "train_loader = DataLoader(train_data, batch_size=10, shuffle=True)\n",
        "test_loader = DataLoader(test_data, batch_size=10, shuffle=False)\n",
        "## MNIST (Modified National Institute of Standards and Technology) dataset is dataset of handwritten digits. We would work on training and pruning of handwritten digits.\n",
        "## Preset training and testing fractions are 6/7 and 1/7 respectively.\n",
        "## Simple training without pruning\n",
        "\n",
        "# Define the CNN model\n",
        "class CNN(nn.Module):\n",
        "    def __init__(self):\n",
        "        super().__init__()\n",
        "        self.conv1 = nn.Conv2d(1, 6, 3, 1)\n",
        "        self.conv2 = nn.Conv2d(6, 16, 3, 1)\n",
        "        self.fc1 = nn.Linear(5 * 5 * 16, 120)\n",
        "        self.fc2 = nn.Linear(120, 84)\n",
        "        self.fc3 = nn.Linear(84, 10)\n",
        "\n",
        "    def forward(self, x):\n",
        "        x = F.relu(self.conv1(x))\n",
        "        x = F.max_pool2d(x, 2, 2)\n",
        "        x = F.relu(self.conv2(x))\n",
        "        x = F.max_pool2d(x, 2, 2)\n",
        "        x = x.view(-1, 5 * 5 * 16)  # Adjusted flattening\n",
        "        x = F.relu(self.fc1(x))\n",
        "        x = F.relu(self.fc2(x))\n",
        "        x = self.fc3(x)\n",
        "        return F.log_softmax(x, dim=1)\n",
        "\n",
        "# Instantiate the model and set up optimizer and loss function\n",
        "torch.manual_seed(36)\n",
        "model = CNN()\n",
        "\n",
        "criterion = nn.CrossEntropyLoss()\n",
        "optimizer = torch.optim.Adam(model.parameters(), lr=0.01)\n",
        "\n",
        "\n",
        "\n",
        "epochs = 5\n",
        "train_losses = []\n",
        "test_losses = []\n",
        "train_correct = []\n",
        "test_correct = []\n",
        "\n",
        "for i in range(epochs):\n",
        "    trn_corr = 0\n",
        "    tst_corr = 0\n",
        "\n",
        "    for b, (X_train, y_train) in enumerate(train_loader):\n",
        "        b += 1\n",
        "        y_pred = model(X_train)\n",
        "        loss = criterion(y_pred, y_train)             # Loss finding step to check the difference\n",
        "        predicted = torch.max(y_pred.data, 1)[1]                          ## Find the predicition based on the given model and forward function, check with what the actual training data is .\n",
        "        batch_corr = (predicted == y_train).sum().item()\n",
        "        trn_corr += batch_corr\n",
        "\n",
        "        optimizer.zero_grad()\n",
        "        loss.backward()\n",
        "        optimizer.step()\n",
        "\n",
        "        if b % 600 == 0:                            # Not necessarily 600 , can be any other number\n",
        "            print(f'epoch: {i}  batch: {b}  loss: {loss.item()}')\n",
        "\n",
        "    train_losses.append(loss.item())\n",
        "    train_correct.append(trn_corr)\n",
        "\n",
        "    with torch.no_grad():                      ## torch.no_grad ensures that whatever weight was used during training remains during the testing phase as well, no_grad = no change in weight/gradient .\n",
        "        for b, (X_test, y_test) in enumerate(test_loader):\n",
        "            y_val = model(X_test)\n",
        "            predicted = torch.max(y_val.data, 1)[1]\n",
        "            tst_corr += (predicted == y_test).sum().item()\n",
        "\n",
        "    loss = criterion(y_val, y_test)\n",
        "    test_losses.append(loss.item())\n",
        "    if test_losses:\n",
        "       avg_test_loss = sum(test_losses) / len(test_losses)\n",
        "       print(f\"epoch {i}: Average Test Loss: {avg_test_loss}\")\n",
        "    test_correct.append(tst_corr)\n",
        "\n",
        "    test_acc = tst_corr / len(test_data) * 100\n",
        "    print(f\"Epoch {i}: Test Accuracy: {test_acc:.2f}%\")\n",
        "\n"
      ],
      "metadata": {
        "colab": {
          "base_uri": "https://localhost:8080/"
        },
        "id": "OzGYjdtWxaTg",
        "outputId": "402cd2d7-54cc-48ab-f5c6-540289dc2f3c"
      },
      "execution_count": 15,
      "outputs": [
        {
          "output_type": "stream",
          "name": "stdout",
          "text": [
            "epoch: 0  batch: 600  loss: 0.040801286697387695\n",
            "epoch: 0  batch: 1200  loss: 0.24855050444602966\n",
            "epoch: 0  batch: 1800  loss: 0.027155891060829163\n",
            "epoch: 0  batch: 2400  loss: 0.1461646854877472\n",
            "epoch: 0  batch: 3000  loss: 0.2589845061302185\n",
            "epoch: 0  batch: 3600  loss: 0.021197175607085228\n",
            "epoch: 0  batch: 4200  loss: 0.11338480561971664\n",
            "epoch: 0  batch: 4800  loss: 0.03924586623907089\n",
            "epoch: 0  batch: 5400  loss: 0.6657552719116211\n",
            "epoch: 0  batch: 6000  loss: 0.02631903626024723\n",
            "epoch 0: Average Test Loss: 0.004304179921746254\n",
            "Epoch 0: Test Accuracy: 96.10%\n",
            "epoch: 1  batch: 600  loss: 0.04975535348057747\n",
            "epoch: 1  batch: 1200  loss: 0.034018680453300476\n",
            "epoch: 1  batch: 1800  loss: 0.07127867639064789\n",
            "epoch: 1  batch: 2400  loss: 0.022431345656514168\n",
            "epoch: 1  batch: 3000  loss: 0.2589156925678253\n",
            "epoch: 1  batch: 3600  loss: 0.856357216835022\n",
            "epoch: 1  batch: 4200  loss: 0.06102684885263443\n",
            "epoch: 1  batch: 4800  loss: 0.0022716184612363577\n",
            "epoch: 1  batch: 5400  loss: 0.0029357096645981073\n",
            "epoch: 1  batch: 6000  loss: 0.020297031849622726\n",
            "epoch 1: Average Test Loss: 0.006470666266977787\n",
            "Epoch 1: Test Accuracy: 96.42%\n",
            "epoch: 2  batch: 600  loss: 0.003988746553659439\n",
            "epoch: 2  batch: 1200  loss: 0.03590976074337959\n",
            "epoch: 2  batch: 1800  loss: 0.02364541031420231\n",
            "epoch: 2  batch: 2400  loss: 0.00022967618133407086\n",
            "epoch: 2  batch: 3000  loss: 0.09656725823879242\n",
            "epoch: 2  batch: 3600  loss: 0.01364197302609682\n",
            "epoch: 2  batch: 4200  loss: 0.023755988106131554\n",
            "epoch: 2  batch: 4800  loss: 0.035767555236816406\n",
            "epoch: 2  batch: 5400  loss: 0.05428200960159302\n",
            "epoch: 2  batch: 6000  loss: 0.18291075527668\n",
            "epoch 2: Average Test Loss: 0.01794404226044814\n",
            "Epoch 2: Test Accuracy: 96.87%\n",
            "epoch: 3  batch: 600  loss: 0.6251711249351501\n",
            "epoch: 3  batch: 1200  loss: 0.0002170434017898515\n",
            "epoch: 3  batch: 1800  loss: 0.0007935744943097234\n",
            "epoch: 3  batch: 2400  loss: 0.013918591663241386\n",
            "epoch: 3  batch: 3000  loss: 0.0011636193376034498\n",
            "epoch: 3  batch: 3600  loss: 0.005466276779770851\n",
            "epoch: 3  batch: 4200  loss: 0.28121834993362427\n",
            "epoch: 3  batch: 4800  loss: 0.0578882209956646\n",
            "epoch: 3  batch: 5400  loss: 0.0005407611606642604\n",
            "epoch: 3  batch: 6000  loss: 1.1216275691986084\n",
            "epoch 3: Average Test Loss: 0.015167278121225536\n",
            "Epoch 3: Test Accuracy: 96.52%\n",
            "epoch: 4  batch: 600  loss: 0.0050813863053917885\n",
            "epoch: 4  batch: 1200  loss: 0.000482101779198274\n",
            "epoch: 4  batch: 1800  loss: 0.019717520102858543\n",
            "epoch: 4  batch: 2400  loss: 0.018338562920689583\n",
            "epoch: 4  batch: 3000  loss: 0.47102442383766174\n",
            "epoch: 4  batch: 3600  loss: 0.0010902471840381622\n",
            "epoch: 4  batch: 4200  loss: 0.002702598460018635\n",
            "epoch: 4  batch: 4800  loss: 0.008231764659285545\n",
            "epoch: 4  batch: 5400  loss: 0.002370550064370036\n",
            "epoch: 4  batch: 6000  loss: 0.29872360825538635\n",
            "epoch 4: Average Test Loss: 0.016117130126804113\n",
            "Epoch 4: Test Accuracy: 96.56%\n"
          ]
        }
      ]
    },
    {
      "cell_type": "markdown",
      "source": [
        "Average Test Accuracy = 96.49%"
      ],
      "metadata": {
        "id": "LMkw3PyT9o6P"
      }
    },
    {
      "cell_type": "code",
      "source": [
        "## Graphing out some basic results\n",
        "plt.plot(train_losses, label='Training loss', marker='o')\n",
        "plt.plot(test_losses, label='Testing loss', marker='o')\n",
        "plt.xlabel('Epochs')\n",
        "plt.ylabel('Loss')\n",
        "plt.title('Loss vs Epochs')\n",
        "plt.legend()"
      ],
      "metadata": {
        "colab": {
          "base_uri": "https://localhost:8080/",
          "height": 490
        },
        "id": "iK3gsRZy6VTA",
        "outputId": "4339152f-fd04-4971-dfa1-a60729f2bc08"
      },
      "execution_count": 20,
      "outputs": [
        {
          "output_type": "execute_result",
          "data": {
            "text/plain": [
              "<matplotlib.legend.Legend at 0x7e6452234b80>"
            ]
          },
          "metadata": {},
          "execution_count": 20
        },
        {
          "output_type": "display_data",
          "data": {
            "text/plain": [
              "<Figure size 640x480 with 1 Axes>"
            ],
            "image/png": "[encoded data removed]"
          },
          "metadata": {}
        }
      ]
    },
    {
      "cell_type": "code",
      "source": [
        "# Accuracy vs epochs\n",
        "\n",
        "plt.plot(test_correct, label='Testing Accuracy', marker='o')\n",
        "plt.xlabel('Epochs')\n",
        "plt.ylabel('Accuracy')\n",
        "plt.title('Accuracy vs Epochs')\n",
        "plt.legend()"
      ],
      "metadata": {
        "colab": {
          "base_uri": "https://localhost:8080/",
          "height": 490
        },
        "id": "RLiUev1lGloG",
        "outputId": "bebafb9c-39a2-4240-f31f-39c9d9b1e075"
      },
      "execution_count": 21,
      "outputs": [
        {
          "output_type": "execute_result",
          "data": {
            "text/plain": [
              "<matplotlib.legend.Legend at 0x7e644f482200>"
            ]
          },
          "metadata": {},
          "execution_count": 21
        },
        {
          "output_type": "display_data",
          "data": {
            "text/plain": [
              "<Figure size 640x480 with 1 Axes>"
            ],
            "image/png": "[encoded data removed]"
          },
          "metadata": {}
        }
      ]
    },
    {
      "cell_type": "code",
      "source": [
        "## Testing on a randomnly given imagen to check how good the model actually is ."
      ],
      "metadata": {
        "id": "4B3fUZHqHzd1"
      },
      "execution_count": null,
      "outputs": []
    },
    {
      "cell_type": "code",
      "source": [
        "random = test_data[100]\n",
        "random"
      ],
      "metadata": {
        "colab": {
          "base_uri": "https://localhost:8080/"
        },
        "id": "qYfHUW94IFTU",
        "outputId": "d4f2108a-3545-44ca-8381-4f4a4347b83d"
      },
      "execution_count": 22,
      "outputs": [
        {
          "output_type": "execute_result",
          "data": {
            "text/plain": [
              "(tensor([[[0.0000, 0.0000, 0.0000, 0.0000, 0.0000, 0.0000, 0.0000, 0.0000,\n",
              "           0.0000, 0.0000, 0.0000, 0.0000, 0.0000, 0.0000, 0.0000, 0.0000,\n",
              "           0.0000, 0.0000, 0.0000, 0.0000, 0.0000, 0.0000, 0.0000, 0.0000,\n",
              "           0.0000, 0.0000, 0.0000, 0.0000],\n",
              "          [0.0000, 0.0000, 0.0000, 0.0000, 0.0000, 0.0000, 0.0000, 0.0000,\n",
              "           0.0000, 0.0000, 0.0000, 0.0000, 0.0000, 0.0000, 0.0000, 0.0000,\n",
              "           0.0000, 0.0000, 0.0000, 0.0000, 0.0000, 0.0000, 0.0000, 0.0000,\n",
              "           0.0000, 0.0000, 0.0000, 0.0000],\n",
              "          [0.0000, 0.0000, 0.0000, 0.0000, 0.0000, 0.0000, 0.0000, 0.0000,\n",
              "           0.0000, 0.0000, 0.0000, 0.0000, 0.4980, 0.8667, 0.2039, 0.0000,\n",
              "           0.0000, 0.0000, 0.0000, 0.0000, 0.0000, 0.0000, 0.0000, 0.0000,\n",
              "           0.0000, 0.0000, 0.0000, 0.0000],\n",
              "          [0.0000, 0.0000, 0.0000, 0.0000, 0.0000, 0.0000, 0.0000, 0.0000,\n",
              "           0.0000, 0.0000, 0.0000, 0.2510, 0.8980, 0.8588, 0.4078, 0.0000,\n",
              "           0.0000, 0.0000, 0.0000, 0.0000, 0.0000, 0.0000, 0.0000, 0.0000,\n",
              "           0.0000, 0.0000, 0.0000, 0.0000],\n",
              "          [0.0000, 0.0000, 0.0000, 0.0000, 0.0000, 0.0000, 0.0000, 0.0000,\n",
              "           0.0000, 0.0000, 0.0510, 0.9216, 0.5490, 0.0157, 0.0118, 0.0000,\n",
              "           0.0000, 0.0000, 0.0000, 0.0000, 0.0000, 0.0000, 0.0000, 0.0000,\n",
              "           0.0000, 0.0000, 0.0000, 0.0000],\n",
              "          [0.0000, 0.0000, 0.0000, 0.0000, 0.0000, 0.0000, 0.0000, 0.0000,\n",
              "           0.0000, 0.0000, 0.4627, 0.8902, 0.0980, 0.0000, 0.0000, 0.0000,\n",
              "           0.0000, 0.0000, 0.0000, 0.0000, 0.0000, 0.0000, 0.0000, 0.0000,\n",
              "           0.0000, 0.0000, 0.0000, 0.0000],\n",
              "          [0.0000, 0.0000, 0.0000, 0.0000, 0.0000, 0.0000, 0.0000, 0.0000,\n",
              "           0.0000, 0.0000, 0.9255, 0.5216, 0.0000, 0.0000, 0.0000, 0.0000,\n",
              "           0.0000, 0.0000, 0.0000, 0.0000, 0.0000, 0.0000, 0.0000, 0.0000,\n",
              "           0.0000, 0.0000, 0.0000, 0.0000],\n",
              "          [0.0000, 0.0000, 0.0000, 0.0000, 0.0000, 0.0000, 0.0000, 0.0000,\n",
              "           0.0000, 0.0510, 0.9529, 0.3647, 0.0000, 0.0000, 0.0000, 0.0000,\n",
              "           0.0000, 0.0000, 0.0000, 0.0000, 0.0000, 0.0000, 0.0000, 0.0000,\n",
              "           0.0000, 0.0000, 0.0000, 0.0000],\n",
              "          [0.0000, 0.0000, 0.0000, 0.0000, 0.0000, 0.0000, 0.0000, 0.0000,\n",
              "           0.0000, 0.3333, 0.9529, 0.0824, 0.0000, 0.0000, 0.0000, 0.0000,\n",
              "           0.0000, 0.0000, 0.0000, 0.0000, 0.0000, 0.0000, 0.0000, 0.0000,\n",
              "           0.0000, 0.0000, 0.0000, 0.0000],\n",
              "          [0.0000, 0.0000, 0.0000, 0.0000, 0.0000, 0.0000, 0.0000, 0.0000,\n",
              "           0.0000, 0.7412, 0.9255, 0.0000, 0.0000, 0.0000, 0.0000, 0.0000,\n",
              "           0.0000, 0.0000, 0.0000, 0.0000, 0.0000, 0.0000, 0.0000, 0.0000,\n",
              "           0.0000, 0.0000, 0.0000, 0.0000],\n",
              "          [0.0000, 0.0000, 0.0000, 0.0000, 0.0000, 0.0000, 0.0000, 0.0000,\n",
              "           0.0039, 0.8157, 0.6627, 0.0000, 0.0000, 0.0000, 0.0000, 0.0000,\n",
              "           0.0000, 0.2510, 0.5922, 0.5922, 0.5294, 0.2902, 0.0039, 0.0000,\n",
              "           0.0000, 0.0000, 0.0000, 0.0000],\n",
              "          [0.0000, 0.0000, 0.0000, 0.0000, 0.0000, 0.0000, 0.0000, 0.0000,\n",
              "           0.1020, 0.9961, 0.3490, 0.0000, 0.0000, 0.0000, 0.0000, 0.0235,\n",
              "           0.5569, 0.9961, 0.8784, 0.8275, 0.7098, 0.9451, 0.2745, 0.0000,\n",
              "           0.0000, 0.0000, 0.0000, 0.0000],\n",
              "          [0.0000, 0.0000, 0.0000, 0.0000, 0.0000, 0.0000, 0.0000, 0.0000,\n",
              "           0.1020, 0.9961, 0.2667, 0.0000, 0.0000, 0.0000, 0.0078, 0.6314,\n",
              "           0.9961, 0.4078, 0.0275, 0.0000, 0.0000, 0.3137, 0.8745, 0.0588,\n",
              "           0.0000, 0.0000, 0.0000, 0.0000],\n",
              "          [0.0000, 0.0000, 0.0000, 0.0000, 0.0000, 0.0000, 0.0000, 0.0000,\n",
              "           0.2235, 0.9961, 0.0588, 0.0000, 0.0000, 0.0000, 0.5882, 0.9059,\n",
              "           0.2667, 0.0039, 0.0000, 0.0000, 0.0000, 0.0353, 0.9059, 0.1020,\n",
              "           0.0000, 0.0000, 0.0000, 0.0000],\n",
              "          [0.0000, 0.0000, 0.0000, 0.0000, 0.0000, 0.0000, 0.0000, 0.0000,\n",
              "           0.3098, 0.9961, 0.0588, 0.0000, 0.0000, 0.0941, 0.8941, 0.2588,\n",
              "           0.0000, 0.0000, 0.0000, 0.0000, 0.0000, 0.0000, 0.7686, 0.3412,\n",
              "           0.0000, 0.0000, 0.0000, 0.0000],\n",
              "          [0.0000, 0.0000, 0.0000, 0.0000, 0.0000, 0.0000, 0.0000, 0.0000,\n",
              "           0.2863, 0.9961, 0.1686, 0.0000, 0.0000, 0.4549, 0.9843, 0.0275,\n",
              "           0.0000, 0.0000, 0.0000, 0.0000, 0.0000, 0.0000, 0.7686, 0.3922,\n",
              "           0.0000, 0.0000, 0.0000, 0.0000],\n",
              "          [0.0000, 0.0000, 0.0000, 0.0000, 0.0000, 0.0000, 0.0000, 0.0000,\n",
              "           0.0510, 0.9020, 0.5765, 0.0000, 0.0000, 0.2353, 1.0000, 0.2745,\n",
              "           0.0000, 0.0000, 0.0000, 0.0000, 0.0000, 0.0157, 0.8196, 0.3294,\n",
              "           0.0000, 0.0000, 0.0000, 0.0000],\n",
              "          [0.0000, 0.0000, 0.0000, 0.0000, 0.0000, 0.0000, 0.0000, 0.0000,\n",
              "           0.0000, 0.7961, 0.9098, 0.0157, 0.0000, 0.1647, 0.9922, 0.2902,\n",
              "           0.0000, 0.0000, 0.0000, 0.0000, 0.0000, 0.4471, 0.9137, 0.0667,\n",
              "           0.0000, 0.0000, 0.0000, 0.0000],\n",
              "          [0.0000, 0.0000, 0.0000, 0.0000, 0.0000, 0.0000, 0.0000, 0.0000,\n",
              "           0.0000, 0.3412, 0.9882, 0.5765, 0.0000, 0.0000, 0.6039, 0.8980,\n",
              "           0.5176, 0.4824, 0.4824, 0.2471, 0.3647, 0.9725, 0.2549, 0.0000,\n",
              "           0.0000, 0.0000, 0.0000, 0.0000],\n",
              "          [0.0000, 0.0000, 0.0000, 0.0000, 0.0000, 0.0000, 0.0000, 0.0000,\n",
              "           0.0000, 0.0000, 0.6627, 0.9765, 0.5373, 0.0902, 0.0314, 0.3137,\n",
              "           0.3922, 0.3961, 0.4196, 0.5686, 0.7529, 0.2000, 0.0000, 0.0000,\n",
              "           0.0000, 0.0000, 0.0000, 0.0000],\n",
              "          [0.0000, 0.0000, 0.0000, 0.0000, 0.0000, 0.0000, 0.0000, 0.0000,\n",
              "           0.0000, 0.0000, 0.0196, 0.5451, 0.9843, 0.8784, 0.5647, 0.4510,\n",
              "           0.4510, 0.7647, 0.9961, 0.7333, 0.1882, 0.0000, 0.0000, 0.0000,\n",
              "           0.0000, 0.0000, 0.0000, 0.0000],\n",
              "          [0.0000, 0.0000, 0.0000, 0.0000, 0.0000, 0.0000, 0.0000, 0.0000,\n",
              "           0.0000, 0.0000, 0.0000, 0.0000, 0.2157, 0.5529, 0.7961, 0.9569,\n",
              "           0.7059, 0.5059, 0.2627, 0.0078, 0.0000, 0.0000, 0.0000, 0.0000,\n",
              "           0.0000, 0.0000, 0.0000, 0.0000],\n",
              "          [0.0000, 0.0000, 0.0000, 0.0000, 0.0000, 0.0000, 0.0000, 0.0000,\n",
              "           0.0000, 0.0000, 0.0000, 0.0000, 0.0000, 0.0000, 0.0000, 0.0000,\n",
              "           0.0000, 0.0000, 0.0000, 0.0000, 0.0000, 0.0000, 0.0000, 0.0000,\n",
              "           0.0000, 0.0000, 0.0000, 0.0000],\n",
              "          [0.0000, 0.0000, 0.0000, 0.0000, 0.0000, 0.0000, 0.0000, 0.0000,\n",
              "           0.0000, 0.0000, 0.0000, 0.0000, 0.0000, 0.0000, 0.0000, 0.0000,\n",
              "           0.0000, 0.0000, 0.0000, 0.0000, 0.0000, 0.0000, 0.0000, 0.0000,\n",
              "           0.0000, 0.0000, 0.0000, 0.0000],\n",
              "          [0.0000, 0.0000, 0.0000, 0.0000, 0.0000, 0.0000, 0.0000, 0.0000,\n",
              "           0.0000, 0.0000, 0.0000, 0.0000, 0.0000, 0.0000, 0.0000, 0.0000,\n",
              "           0.0000, 0.0000, 0.0000, 0.0000, 0.0000, 0.0000, 0.0000, 0.0000,\n",
              "           0.0000, 0.0000, 0.0000, 0.0000],\n",
              "          [0.0000, 0.0000, 0.0000, 0.0000, 0.0000, 0.0000, 0.0000, 0.0000,\n",
              "           0.0000, 0.0000, 0.0000, 0.0000, 0.0000, 0.0000, 0.0000, 0.0000,\n",
              "           0.0000, 0.0000, 0.0000, 0.0000, 0.0000, 0.0000, 0.0000, 0.0000,\n",
              "           0.0000, 0.0000, 0.0000, 0.0000],\n",
              "          [0.0000, 0.0000, 0.0000, 0.0000, 0.0000, 0.0000, 0.0000, 0.0000,\n",
              "           0.0000, 0.0000, 0.0000, 0.0000, 0.0000, 0.0000, 0.0000, 0.0000,\n",
              "           0.0000, 0.0000, 0.0000, 0.0000, 0.0000, 0.0000, 0.0000, 0.0000,\n",
              "           0.0000, 0.0000, 0.0000, 0.0000],\n",
              "          [0.0000, 0.0000, 0.0000, 0.0000, 0.0000, 0.0000, 0.0000, 0.0000,\n",
              "           0.0000, 0.0000, 0.0000, 0.0000, 0.0000, 0.0000, 0.0000, 0.0000,\n",
              "           0.0000, 0.0000, 0.0000, 0.0000, 0.0000, 0.0000, 0.0000, 0.0000,\n",
              "           0.0000, 0.0000, 0.0000, 0.0000]]]),\n",
              " 6)"
            ]
          },
          "metadata": {},
          "execution_count": 22
        }
      ]
    },
    {
      "cell_type": "code",
      "source": [
        "plt.imshow(random[0][0], cmap='gray')"
      ],
      "metadata": {
        "colab": {
          "base_uri": "https://localhost:8080/",
          "height": 448
        },
        "id": "ygpjzHUoItLt",
        "outputId": "bd72814f-d0ec-4f77-9148-0e604c988971"
      },
      "execution_count": 25,
      "outputs": [
        {
          "output_type": "execute_result",
          "data": {
            "text/plain": [
              "<matplotlib.image.AxesImage at 0x7e644fa69750>"
            ]
          },
          "metadata": {},
          "execution_count": 25
        },
        {
          "output_type": "display_data",
          "data": {
            "text/plain": [
              "<Figure size 640x480 with 1 Axes>"
            ],
            "image/png": "[encoded data removed]"
          },
          "metadata": {}
        }
      ]
    },
    {
      "cell_type": "markdown",
      "source": [
        "This tells us that our random image is supposed be the digit 6."
      ],
      "metadata": {
        "id": "XzUNCiXOI4Mb"
      }
    },
    {
      "cell_type": "code",
      "source": [
        "model.eval()\n",
        "with torch.no_grad():\n",
        "    output = model(random[0].view(1, 1, 28, 28))\n",
        "output"
      ],
      "metadata": {
        "colab": {
          "base_uri": "https://localhost:8080/"
        },
        "id": "apW7lL4nJGc_",
        "outputId": "97b2e7c6-644b-470a-b126-d38c3a8b5e0f"
      },
      "execution_count": 30,
      "outputs": [
        {
          "output_type": "execute_result",
          "data": {
            "text/plain": [
              "tensor([[ -47.5829,  -51.9530,  -32.9320,  -46.4502,  -27.4845,  -19.1980,\n",
              "            0.0000, -157.8389,  -27.3901,  -72.1576]])"
            ]
          },
          "metadata": {},
          "execution_count": 30
        }
      ]
    },
    {
      "cell_type": "markdown",
      "source": [
        "The largest element in this tensor is 0 , corresponds to the digit 6 .\n"
      ],
      "metadata": {
        "id": "ISPLd4sBKF1d"
      }
    },
    {
      "cell_type": "code",
      "source": [
        "output.argmax()"
      ],
      "metadata": {
        "colab": {
          "base_uri": "https://localhost:8080/"
        },
        "id": "6_DMJ9weKc9E",
        "outputId": "62d31289-7737-4f38-b8c7-0e24cd06f608"
      },
      "execution_count": 31,
      "outputs": [
        {
          "output_type": "execute_result",
          "data": {
            "text/plain": [
              "tensor(6)"
            ]
          },
          "metadata": {},
          "execution_count": 31
        }
      ]
    },
    {
      "cell_type": "markdown",
      "source": [
        "This last cell verifies our claim ."
      ],
      "metadata": {
        "id": "6E_3Pjz9Kitq"
      }
    },
    {
      "cell_type": "code",
      "source": [
        "import torch\n",
        "from torch import nn\n",
        "import torch.nn.utils.prune as prune\n",
        "import torch.nn.functional as F"
      ],
      "metadata": {
        "id": "j1WvtXhbZb23"
      },
      "execution_count": 61,
      "outputs": []
    },
    {
      "cell_type": "code",
      "source": [
        "cl1 = model.conv1\n",
        "print(list(cl1.named_parameters()))"
      ],
      "metadata": {
        "colab": {
          "base_uri": "https://localhost:8080/"
        },
        "id": "eLjGm_MoaNIw",
        "outputId": "206de28d-ab2d-40d9-b6b9-1afad3ddb0d2"
      },
      "execution_count": 63,
      "outputs": [
        {
          "output_type": "stream",
          "name": "stdout",
          "text": [
            "[('bias', Parameter containing:\n",
            "tensor([-0.6561, -0.3398,  0.3163, -0.8903, -0.5071,  0.0298],\n",
            "       requires_grad=True)), ('weight_orig', Parameter containing:\n",
            "tensor([[[[ 0.3016, -1.4817, -0.3313],\n",
            "          [ 0.5213, -0.1784, -0.4329],\n",
            "          [ 0.0511,  0.6061,  0.8218]]],\n",
            "\n",
            "\n",
            "        [[[-0.9555,  0.2549,  0.7695],\n",
            "          [-2.9746, -0.7352,  0.2318],\n",
            "          [ 1.0570, -1.3620, -1.5593]]],\n",
            "\n",
            "\n",
            "        [[[-0.5122, -0.6679,  0.1736],\n",
            "          [-0.7676, -2.2628, -2.6725],\n",
            "          [-0.2768, -0.8008, -2.3680]]],\n",
            "\n",
            "\n",
            "        [[[ 0.3111, -0.9945, -2.6575],\n",
            "          [-0.2935, -1.3723, -0.5440],\n",
            "          [-0.8126, -1.5939,  0.4668]]],\n",
            "\n",
            "\n",
            "        [[[ 0.2028, -0.2312, -0.0036],\n",
            "          [ 0.2358,  0.0076, -0.7330],\n",
            "          [ 0.0462, -0.8525, -0.5704]]],\n",
            "\n",
            "\n",
            "        [[[ 0.4363,  0.1654,  0.3758],\n",
            "          [-0.3997,  0.7045, -0.6042],\n",
            "          [-1.8303, -1.0201, -1.0708]]]], requires_grad=True))]\n"
          ]
        }
      ]
    },
    {
      "cell_type": "code",
      "source": [
        "prune.random_unstructured(cl1 , name=\"weight\", amount=0.3)"
      ],
      "metadata": {
        "colab": {
          "base_uri": "https://localhost:8080/"
        },
        "id": "R9qqXoq_bTSG",
        "outputId": "f09791c4-3383-4991-90ab-5f4fe6c7c3b7"
      },
      "execution_count": 67,
      "outputs": [
        {
          "output_type": "execute_result",
          "data": {
            "text/plain": [
              "Conv2d(1, 6, kernel_size=(3, 3), stride=(1, 1))"
            ]
          },
          "metadata": {},
          "execution_count": 67
        }
      ]
    },
    {
      "cell_type": "code",
      "source": [
        "print(cl1.weight)"
      ],
      "metadata": {
        "colab": {
          "base_uri": "https://localhost:8080/"
        },
        "id": "zuVQ2Q1BbfXF",
        "outputId": "8f4fcf91-efd6-4a05-bd56-7ef977b9d137"
      },
      "execution_count": 68,
      "outputs": [
        {
          "output_type": "stream",
          "name": "stdout",
          "text": [
            "tensor([[[[ 0.0000, -0.0000, -0.0000],\n",
            "          [ 0.0000, -0.0000, -0.0000],\n",
            "          [ 0.0000,  0.0000,  0.0000]]],\n",
            "\n",
            "\n",
            "        [[[-0.0000,  0.0000,  0.0000],\n",
            "          [-0.0000, -0.0000,  0.0000],\n",
            "          [ 0.0000, -0.0000, -0.0000]]],\n",
            "\n",
            "\n",
            "        [[[-0.0000, -0.0000,  0.0000],\n",
            "          [-0.7676, -0.0000, -0.0000],\n",
            "          [-0.0000, -0.0000, -0.0000]]],\n",
            "\n",
            "\n",
            "        [[[ 0.0000, -0.0000, -0.0000],\n",
            "          [-0.0000, -0.0000, -0.0000],\n",
            "          [-0.0000, -0.0000,  0.0000]]],\n",
            "\n",
            "\n",
            "        [[[ 0.2028, -0.2312, -0.0000],\n",
            "          [ 0.0000,  0.0000, -0.0000],\n",
            "          [ 0.0000, -0.0000, -0.0000]]],\n",
            "\n",
            "\n",
            "        [[[ 0.0000,  0.0000,  0.0000],\n",
            "          [-0.0000,  0.0000, -0.0000],\n",
            "          [-0.0000, -0.0000, -0.0000]]]], grad_fn=<MulBackward0>)\n"
          ]
        }
      ]
    },
    {
      "cell_type": "code",
      "source": [
        "weight_sparsity1 = (cl1.weight.data == 0).sum() / cl1.weight.data.nelement()\n",
        "print(f\"Sparsity: {weight_sparsity1 * 100:.2f}%\")"
      ],
      "metadata": {
        "colab": {
          "base_uri": "https://localhost:8080/"
        },
        "id": "oLVeVjY8bspy",
        "outputId": "490d16a7-dba7-4bfa-b215-4a5bf65d19c0"
      },
      "execution_count": 89,
      "outputs": [
        {
          "output_type": "stream",
          "name": "stdout",
          "text": [
            "Sparsity: 94.44%\n"
          ]
        }
      ]
    },
    {
      "cell_type": "markdown",
      "source": [
        "94.44% of the weights are pruned.\n"
      ],
      "metadata": {
        "id": "Nu-NSlxKb1sW"
      }
    },
    {
      "cell_type": "code",
      "source": [
        "prune.random_unstructured(cl1 , name=\"bias\", amount=0.3)"
      ],
      "metadata": {
        "colab": {
          "base_uri": "https://localhost:8080/"
        },
        "id": "7SKuhLPYb8pj",
        "outputId": "836daa64-ff95-44de-895b-e36755a7292e"
      },
      "execution_count": 70,
      "outputs": [
        {
          "output_type": "execute_result",
          "data": {
            "text/plain": [
              "Conv2d(1, 6, kernel_size=(3, 3), stride=(1, 1))"
            ]
          },
          "metadata": {},
          "execution_count": 70
        }
      ]
    },
    {
      "cell_type": "code",
      "source": [
        "print(cl1.bias)"
      ],
      "metadata": {
        "colab": {
          "base_uri": "https://localhost:8080/"
        },
        "id": "TKNv2dTfdSLQ",
        "outputId": "22fd5182-314f-421b-9b72-1f645659a781"
      },
      "execution_count": 71,
      "outputs": [
        {
          "output_type": "stream",
          "name": "stdout",
          "text": [
            "tensor([-0.0000, -0.0000,  0.3163, -0.8903, -0.5071,  0.0298],\n",
            "       grad_fn=<MulBackward0>)\n"
          ]
        }
      ]
    },
    {
      "cell_type": "code",
      "source": [
        "bias_sparsity1 = (cl1.bias.data == 0).sum() / cl1.bias.data.nelement()\n",
        "print(f\"Sparsity: {bias_sparsity1 * 100:.2f}%\")"
      ],
      "metadata": {
        "colab": {
          "base_uri": "https://localhost:8080/"
        },
        "id": "T0jTo2uLdY24",
        "outputId": "a9caee92-1d98-46f6-c2a7-3a504abb0c8c"
      },
      "execution_count": 90,
      "outputs": [
        {
          "output_type": "stream",
          "name": "stdout",
          "text": [
            "Sparsity: 33.33%\n"
          ]
        }
      ]
    },
    {
      "cell_type": "markdown",
      "source": [
        "33.33% of the biases are pruned"
      ],
      "metadata": {
        "id": "ivGKicYKdw-7"
      }
    },
    {
      "cell_type": "code",
      "source": [
        "cl2 = model.conv2\n",
        "print(list(cl2.named_parameters()))\n"
      ],
      "metadata": {
        "colab": {
          "base_uri": "https://localhost:8080/"
        },
        "id": "SVQaLO-sd5R2",
        "outputId": "be003a22-8a0b-4aa7-a130-c55be7ad0183"
      },
      "execution_count": 74,
      "outputs": [
        {
          "output_type": "stream",
          "name": "stdout",
          "text": [
            "[('weight', Parameter containing:\n",
            "tensor([[[[-2.9197e-01, -1.7541e-01, -2.3538e-01],\n",
            "          [-8.2795e-02, -2.2047e-01, -2.1868e-01],\n",
            "          [-2.0774e-01, -1.1213e-01, -1.2101e-01]],\n",
            "\n",
            "         [[-2.0195e-01, -1.3985e-01, -3.4199e-02],\n",
            "          [-1.4097e-01, -2.2332e-01, -1.4884e-01],\n",
            "          [-2.1444e-01, -1.4968e-01, -1.8975e-01]],\n",
            "\n",
            "         [[-1.2604e-01, -2.2766e-01, -9.6804e-02],\n",
            "          [-1.8803e-01, -1.3268e-01, -2.2254e-01],\n",
            "          [-7.3495e-02, -1.0914e-01, -1.9508e-01]],\n",
            "\n",
            "         [[-3.6320e-02, -6.5639e-02,  5.4846e-02],\n",
            "          [-1.2200e-01, -1.6023e-01, -1.2559e-02],\n",
            "          [-8.8119e-02, -5.0519e-02, -2.3818e-01]],\n",
            "\n",
            "         [[-1.5026e-02, -1.4169e-01, -2.2425e-01],\n",
            "          [-2.4480e-01, -1.6766e-01, -1.8091e-01],\n",
            "          [-2.2163e-01, -2.5864e-01, -9.7141e-02]],\n",
            "\n",
            "         [[ 2.2959e-02, -2.5311e-01, -8.0048e-02],\n",
            "          [-1.4205e-01, -7.8835e-02, -2.3098e-01],\n",
            "          [ 1.6091e-01, -2.8292e-01, -2.1960e-01]]],\n",
            "\n",
            "\n",
            "        [[[ 2.4860e-01,  5.4925e-01, -3.2827e-02],\n",
            "          [ 5.8522e-01,  2.8270e-01,  1.0066e-02],\n",
            "          [ 9.2593e-02, -6.2579e-01, -3.4805e-01]],\n",
            "\n",
            "         [[-7.8174e-01, -2.1174e+00, -1.2880e+00],\n",
            "          [ 4.6454e-01, -1.0226e+00, -4.1182e-02],\n",
            "          [ 4.0170e-01,  4.6060e-01, -2.1825e-01]],\n",
            "\n",
            "         [[-1.1626e-01,  2.2847e-01, -3.3754e-01],\n",
            "          [-4.4379e-01, -1.2707e+00, -1.4895e+00],\n",
            "          [ 1.1999e-01,  6.8578e-01,  1.8843e-01]],\n",
            "\n",
            "         [[ 3.1911e-01,  3.7533e-01,  3.8960e-01],\n",
            "          [-1.2414e-01, -1.2195e+00, -7.4350e-01],\n",
            "          [ 1.8219e-01,  9.4081e-02, -6.4610e-01]],\n",
            "\n",
            "         [[ 2.0188e-01,  1.7670e-01, -3.0900e-01],\n",
            "          [-2.6154e-01, -2.5243e-01, -2.2032e-01],\n",
            "          [ 2.2966e-01, -1.2428e-03,  1.2012e-01]],\n",
            "\n",
            "         [[-9.8394e-01,  2.1158e-01, -2.4291e-01],\n",
            "          [ 7.4474e-02,  1.4658e-01,  4.5031e-01],\n",
            "          [-1.7723e-02,  4.9671e-01,  9.2992e-01]]],\n",
            "\n",
            "\n",
            "        [[[-1.1426e-01, -8.8624e-02,  3.0689e-02],\n",
            "          [-1.3843e-01, -2.0764e-01, -1.3300e-01],\n",
            "          [-2.2382e-02, -1.1456e-01, -7.2142e-02]],\n",
            "\n",
            "         [[-1.4587e-03, -6.2333e-02, -4.2918e-02],\n",
            "          [ 2.7818e-02,  4.5078e-02, -4.9317e-02],\n",
            "          [-7.7251e-02, -5.7430e-02,  7.8919e-02]],\n",
            "\n",
            "         [[-1.6525e-01, -1.6940e-01,  5.3977e-02],\n",
            "          [-3.6364e-02, -1.8312e-01, -8.5034e-02],\n",
            "          [-3.1510e-02, -9.0739e-02, -4.9934e-02]],\n",
            "\n",
            "         [[-7.4523e-03, -1.7009e-01, -1.1641e-02],\n",
            "          [-1.9812e-01, -9.6176e-02,  7.3541e-02],\n",
            "          [-5.1928e-02, -1.7196e-02, -8.2387e-02]],\n",
            "\n",
            "         [[-7.1913e-02, -1.0159e-01,  5.5281e-02],\n",
            "          [-8.3602e-02, -6.3263e-02, -7.1775e-02],\n",
            "          [ 5.7061e-02, -8.2706e-02,  7.4809e-02]],\n",
            "\n",
            "         [[-7.0063e-02, -1.7802e-01, -8.0769e-02],\n",
            "          [-1.7359e-01,  5.7730e-03, -4.4202e-02],\n",
            "          [-2.1212e-01, -1.8785e-01, -1.3335e-01]]],\n",
            "\n",
            "\n",
            "        [[[-1.5766e-01, -1.4777e-01,  6.0607e-02],\n",
            "          [-1.1447e-01, -1.6521e-01, -1.8248e-02],\n",
            "          [-7.8521e-02, -1.0921e-02,  3.4395e-02]],\n",
            "\n",
            "         [[-7.4666e-02,  3.8618e-02, -1.4709e-02],\n",
            "          [-1.2819e-01, -1.0911e-02, -1.7313e-01],\n",
            "          [-1.4371e-01, -3.1175e-02, -1.1300e-01]],\n",
            "\n",
            "         [[-2.8665e-04,  6.1217e-02, -1.0951e-01],\n",
            "          [-1.1631e-01, -7.1173e-02, -3.0614e-02],\n",
            "          [-3.8756e-02,  3.9355e-02,  2.3393e-02]],\n",
            "\n",
            "         [[ 1.9031e-02, -1.2749e-01, -2.9225e-02],\n",
            "          [-1.5918e-01, -1.5529e-01,  4.7930e-02],\n",
            "          [-1.5602e-01, -1.7552e-01, -4.5112e-02]],\n",
            "\n",
            "         [[ 4.9451e-02, -8.7871e-02, -1.7584e-01],\n",
            "          [-1.2571e-01, -7.8756e-02, -6.5233e-02],\n",
            "          [-2.7254e-03, -1.6068e-01,  1.1943e-02]],\n",
            "\n",
            "         [[-1.2949e-01, -1.5714e-01, -1.2470e-01],\n",
            "          [-1.6140e-03, -1.3439e-01, -6.8636e-02],\n",
            "          [-1.2985e-01, -3.1445e-02,  2.4819e-02]]],\n",
            "\n",
            "\n",
            "        [[[ 5.3582e-02, -9.6718e-02,  3.3239e-02],\n",
            "          [-1.0310e+00, -4.6850e-01, -7.1764e-01],\n",
            "          [ 2.2099e-01,  3.9208e-01, -1.4988e+00]],\n",
            "\n",
            "         [[-3.6079e+00, -1.8296e+00,  2.5470e-01],\n",
            "          [-5.4327e+00, -7.2790e-01,  9.0038e-01],\n",
            "          [-6.4201e-01,  9.1418e-01,  7.1947e-01]],\n",
            "\n",
            "         [[-1.2641e+00, -2.1886e+00, -1.2455e+00],\n",
            "          [-5.6090e+00,  3.6757e-01,  1.9030e-01],\n",
            "          [-4.6395e+00,  1.0781e+00,  1.0153e+00]],\n",
            "\n",
            "         [[-8.5346e-01,  4.2838e-01, -1.1341e-01],\n",
            "          [-2.9380e-02,  2.5508e-01,  5.3862e-02],\n",
            "          [-2.4873e-02, -2.6944e-01, -6.5532e-01]],\n",
            "\n",
            "         [[ 1.4524e-01,  8.7995e-02,  1.2825e-01],\n",
            "          [ 2.0329e-02,  2.4011e-02, -1.8225e-01],\n",
            "          [ 1.4406e-01, -1.8319e-01, -8.2190e-01]],\n",
            "\n",
            "         [[-1.0823e+00, -5.0665e-02,  6.8978e-01],\n",
            "          [-1.8164e+00,  6.7992e-01,  8.1222e-01],\n",
            "          [-2.1723e+00, -6.1139e-01, -5.1122e-01]]],\n",
            "\n",
            "\n",
            "        [[[-8.6179e-02,  8.5065e-03, -4.8100e-02],\n",
            "          [-8.8271e-04, -1.1692e-01,  2.9427e-02],\n",
            "          [-2.6851e-02,  2.7008e-03, -1.0911e-01]],\n",
            "\n",
            "         [[-4.4167e-02,  1.1217e-02,  4.5425e-02],\n",
            "          [-6.6898e-02,  3.4820e-02,  4.4814e-02],\n",
            "          [ 3.6654e-02, -9.8756e-02, -1.3750e-01]],\n",
            "\n",
            "         [[-6.8215e-02, -1.8136e-01, -2.1216e-01],\n",
            "          [-1.9442e-01, -7.6413e-02, -1.3187e-01],\n",
            "          [-1.1965e-01,  4.0481e-02,  3.1798e-02]],\n",
            "\n",
            "         [[-5.0201e-02,  6.9876e-02, -1.2132e-02],\n",
            "          [ 1.2459e-02, -2.2624e-01, -1.0887e-01],\n",
            "          [ 7.9448e-03, -1.9503e-01,  7.2798e-02]],\n",
            "\n",
            "         [[-3.2108e-02, -1.2148e-01,  1.1293e-02],\n",
            "          [-7.2367e-02, -1.9387e-01, -4.7670e-02],\n",
            "          [-6.2367e-02, -8.2017e-02, -6.8080e-02]],\n",
            "\n",
            "         [[-1.3543e-01, -4.1836e-02, -4.7029e-02],\n",
            "          [ 8.3077e-03, -1.8669e-01, -1.1378e-01],\n",
            "          [-1.1819e-01, -7.8410e-02,  5.0420e-02]]],\n",
            "\n",
            "\n",
            "        [[[-5.7754e-02, -1.6385e-02, -1.2722e-01],\n",
            "          [ 5.8710e-02, -1.6414e-01, -1.1492e-01],\n",
            "          [-9.8558e-02, -5.5139e-03, -1.0541e-01]],\n",
            "\n",
            "         [[-7.0135e-02, -9.3319e-02, -1.3230e-01],\n",
            "          [-4.6980e-02,  3.8726e-02, -2.0481e-01],\n",
            "          [ 1.4600e-02, -1.3068e-01, -1.5646e-01]],\n",
            "\n",
            "         [[-6.3896e-02, -7.1189e-02, -5.9351e-03],\n",
            "          [-1.4962e-02, -2.8176e-02, -8.0644e-03],\n",
            "          [-3.1641e-02, -1.3984e-01, -2.2848e-01]],\n",
            "\n",
            "         [[-5.9859e-03, -3.0719e-02,  2.6256e-02],\n",
            "          [ 1.8184e-02, -5.1420e-03, -9.1801e-02],\n",
            "          [-1.1528e-01, -1.1363e-01, -8.8260e-02]],\n",
            "\n",
            "         [[-2.1627e-02, -1.3563e-01, -1.7877e-02],\n",
            "          [ 4.5998e-02,  3.6422e-02, -9.0145e-03],\n",
            "          [-8.0174e-02, -1.5359e-01,  5.0338e-02]],\n",
            "\n",
            "         [[ 3.6959e-02, -1.7386e-02, -6.2568e-02],\n",
            "          [-3.2632e-02, -6.1334e-02, -3.5481e-02],\n",
            "          [ 3.1347e-02, -5.3934e-02,  3.1454e-02]]],\n",
            "\n",
            "\n",
            "        [[[ 8.8899e-01, -5.1672e-01,  5.1897e-03],\n",
            "          [-7.0810e-01,  3.5314e-01,  1.1144e-01],\n",
            "          [-4.7014e-01,  1.7534e+00,  2.6431e-01]],\n",
            "\n",
            "         [[-1.0549e+00, -1.4029e+00, -8.6388e-01],\n",
            "          [-8.7065e-01, -3.6640e-01, -2.2752e-02],\n",
            "          [ 9.3680e-01, -3.8493e-01,  6.2674e-02]],\n",
            "\n",
            "         [[-9.4328e-01, -2.4384e+00, -2.7847e-01],\n",
            "          [-5.8753e+00,  6.4420e-01,  2.1655e-01],\n",
            "          [-2.1642e-01, -1.2735e+00, -1.3065e+00]],\n",
            "\n",
            "         [[-6.1355e-01,  1.0516e+00,  7.5415e-02],\n",
            "          [-1.5549e+00,  1.6960e-01,  6.2117e-01],\n",
            "          [-1.6760e+00, -1.8300e+00, -9.3750e-01]],\n",
            "\n",
            "         [[-7.2628e-02,  3.6021e-01,  2.0516e-01],\n",
            "          [ 1.4370e-02,  2.8692e-01, -5.2944e-01],\n",
            "          [-6.3121e-01, -5.1290e-01,  1.4976e-01]],\n",
            "\n",
            "         [[-2.0975e+00, -8.4397e-02,  4.0159e-01],\n",
            "          [-2.2024e+00,  2.7497e-01,  2.5397e-01],\n",
            "          [-5.7144e-01, -4.7925e-01,  1.5021e-01]]],\n",
            "\n",
            "\n",
            "        [[[-2.8616e-01, -3.0586e-02, -4.7938e-01],\n",
            "          [-3.3025e-01, -5.3979e-02, -5.6395e-02],\n",
            "          [-3.4076e-01, -3.6786e-01, -4.5011e-01]],\n",
            "\n",
            "         [[ 1.6022e-02, -5.6868e-01, -3.1817e-02],\n",
            "          [-2.3337e-01, -3.0517e-01, -1.2769e-01],\n",
            "          [-3.4831e-01, -3.2715e-01, -3.6018e-01]],\n",
            "\n",
            "         [[-1.8551e-01, -3.0497e-02,  7.5375e-02],\n",
            "          [-2.5196e-01, -3.0563e-01, -4.6539e-02],\n",
            "          [-2.2683e-01, -2.0291e-01, -2.8928e-01]],\n",
            "\n",
            "         [[-2.0847e-01, -1.2613e-01, -5.4023e-01],\n",
            "          [-4.0583e-01, -4.8247e-01, -1.7243e-01],\n",
            "          [-5.5324e-01,  1.2961e-03,  5.8390e-02]],\n",
            "\n",
            "         [[-1.5094e-01, -7.4809e-02, -1.3340e-01],\n",
            "          [-1.6266e-01, -5.9613e-02, -1.2253e-01],\n",
            "          [-1.7155e-01, -1.7420e-01, -1.6416e-01]],\n",
            "\n",
            "         [[-3.2128e-01, -5.8137e-01, -3.0759e-01],\n",
            "          [-5.7767e-01, -5.8580e-01, -3.7069e-01],\n",
            "          [-6.6922e-01, -2.7904e-01, -2.0341e-01]]],\n",
            "\n",
            "\n",
            "        [[[-6.8263e-01, -2.3456e+00, -2.8044e+00],\n",
            "          [ 6.1196e-01,  6.1802e-01, -4.0254e-01],\n",
            "          [ 1.2041e-01,  3.1305e-01,  7.7833e-01]],\n",
            "\n",
            "         [[-3.6503e-02, -1.1513e-01,  7.0782e-01],\n",
            "          [-1.9366e-01,  2.5356e-01,  3.6550e-01],\n",
            "          [-3.1554e-02,  8.7159e-01,  1.4216e-01]],\n",
            "\n",
            "         [[ 4.9302e-01,  1.0205e+00,  3.5014e-01],\n",
            "          [ 1.0710e-01,  1.0649e-01,  7.6759e-01],\n",
            "          [-1.5746e+00, -1.0266e+00, -4.1104e-01]],\n",
            "\n",
            "         [[ 5.4956e-01, -1.8248e-01, -1.9402e-01],\n",
            "          [-1.7819e-01, -1.7047e+00, -2.5617e+00],\n",
            "          [-1.3078e+00, -1.0192e+00, -1.0609e-01]],\n",
            "\n",
            "         [[-1.7212e-01, -1.9500e-01, -6.0595e-03],\n",
            "          [-9.2769e-01, -6.8600e-01, -1.0304e+00],\n",
            "          [ 2.5745e-01, -2.7931e-01, -5.9645e-02]],\n",
            "\n",
            "         [[ 6.3576e-01, -9.2436e-02,  2.6332e-02],\n",
            "          [-2.7589e-01, -1.5734e-01, -3.1855e-01],\n",
            "          [ 1.1868e-01, -2.5101e-01, -6.3430e-01]]],\n",
            "\n",
            "\n",
            "        [[[ 2.4948e-02, -1.5489e-01, -1.8506e-01],\n",
            "          [-1.8194e-01, -1.0254e-01, -2.0781e-01],\n",
            "          [-6.0985e-02,  1.3839e-02, -1.4669e-01]],\n",
            "\n",
            "         [[-2.0368e-01, -1.0530e-01, -1.4005e-01],\n",
            "          [-1.4291e-01,  7.8368e-03, -1.2223e-01],\n",
            "          [-1.6402e-01,  2.1229e-02, -2.1246e-01]],\n",
            "\n",
            "         [[-1.9637e-03, -1.7224e-01, -2.1858e-01],\n",
            "          [-1.4885e-01, -2.1228e-01, -1.2769e-01],\n",
            "          [ 1.2282e-02, -1.1690e-02,  6.1313e-03]],\n",
            "\n",
            "         [[-1.1223e-01, -9.1210e-02, -7.9989e-02],\n",
            "          [-1.7681e-01, -1.6071e-01, -1.4773e-01],\n",
            "          [ 6.5769e-02, -8.2797e-02, -1.6445e-01]],\n",
            "\n",
            "         [[ 1.4899e-02, -1.0316e-01, -1.2119e-02],\n",
            "          [-4.2239e-02, -1.3053e-01,  9.9662e-03],\n",
            "          [-4.0544e-02, -1.4176e-01, -1.6116e-01]],\n",
            "\n",
            "         [[-1.2822e-01, -3.1811e-02,  3.4734e-02],\n",
            "          [-8.4844e-02, -6.2612e-02, -8.6359e-02],\n",
            "          [-5.5308e-02, -4.3634e-02,  3.1289e-02]]],\n",
            "\n",
            "\n",
            "        [[[-4.5988e-01, -3.1296e-01, -1.4092e-01],\n",
            "          [-4.7659e-01, -3.1619e-01, -6.7069e-01],\n",
            "          [-4.9962e-01,  1.3405e-01, -3.6417e-01]],\n",
            "\n",
            "         [[ 1.5720e-02, -3.4960e-01, -5.5272e-01],\n",
            "          [-3.9581e-02,  1.6102e-01, -3.6267e-01],\n",
            "          [-4.7192e-03, -1.8370e-01, -1.7879e-01]],\n",
            "\n",
            "         [[-4.4815e-01, -8.1165e-01, -4.0948e-01],\n",
            "          [-2.4633e-01, -1.7919e-01, -2.1273e-01],\n",
            "          [-2.0055e-01, -3.4538e-01, -4.2583e-01]],\n",
            "\n",
            "         [[-3.4292e-01,  4.5341e-02,  2.3664e-01],\n",
            "          [-3.5975e-01, -3.2984e-02, -3.3663e-01],\n",
            "          [-1.6285e-01, -3.1642e-01, -3.9860e-01]],\n",
            "\n",
            "         [[-1.1042e-01, -1.0496e-01, -1.5874e-01],\n",
            "          [-9.4204e-02, -7.3071e-02, -8.8415e-02],\n",
            "          [-7.0705e-02, -1.6385e-01, -1.5902e-01]],\n",
            "\n",
            "         [[-8.6497e-01, -1.9427e-01,  1.2252e-01],\n",
            "          [-1.0530e-01, -1.0197e-01, -1.4747e-01],\n",
            "          [-4.1250e-01, -1.7375e-01, -2.7816e-01]]],\n",
            "\n",
            "\n",
            "        [[[-2.1183e-01, -1.2832e-01,  3.2903e-02],\n",
            "          [-1.3492e-01, -1.6607e-01,  1.0500e-02],\n",
            "          [-1.7307e-02, -1.3432e-01, -2.0285e-01]],\n",
            "\n",
            "         [[-2.0529e-01, -2.0682e-01, -1.4068e-01],\n",
            "          [-3.8215e-02, -4.6655e-02, -5.7565e-03],\n",
            "          [-2.0828e-01, -1.5527e-01, -1.6134e-01]],\n",
            "\n",
            "         [[-1.2301e-01, -5.5526e-02,  2.1632e-03],\n",
            "          [-2.4233e-01, -7.6692e-02,  6.7379e-02],\n",
            "          [-1.9693e-01,  5.7661e-02, -2.1744e-01]],\n",
            "\n",
            "         [[ 1.3582e-01, -2.2091e-01, -1.1758e-01],\n",
            "          [-1.3252e-02, -6.9078e-02,  4.0704e-02],\n",
            "          [-1.9275e-01, -1.2550e-01, -4.9426e-02]],\n",
            "\n",
            "         [[-1.0986e-01, -1.6054e-01, -9.7274e-02],\n",
            "          [-1.6879e-01, -2.4532e-01, -1.6025e-01],\n",
            "          [ 3.5505e-03, -1.1827e-01, -2.4149e-01]],\n",
            "\n",
            "         [[-1.0462e-01, -1.3211e-01, -1.7591e-01],\n",
            "          [-1.2522e-01, -2.2192e-01, -1.8798e-01],\n",
            "          [-9.3843e-02, -7.3325e-02, -1.5202e-01]]],\n",
            "\n",
            "\n",
            "        [[[-1.1888e-01, -5.0239e-02, -4.7081e-02],\n",
            "          [-1.2689e-01, -1.6238e-01, -4.7089e-02],\n",
            "          [-1.0290e-01, -1.4845e-01, -1.7114e-01]],\n",
            "\n",
            "         [[ 5.0982e-04,  1.8778e-02, -1.9273e-01],\n",
            "          [-6.6930e-02, -1.8572e-01, -1.5988e-01],\n",
            "          [-3.7589e-02, -2.2650e-01, -6.2780e-02]],\n",
            "\n",
            "         [[-1.0158e-01, -7.8062e-02, -3.8460e-03],\n",
            "          [-1.3636e-01,  3.6623e-02,  1.9645e-02],\n",
            "          [-1.8699e-01,  3.2792e-02, -2.0490e-01]],\n",
            "\n",
            "         [[-1.2062e-02, -2.6649e-02, -1.4382e-01],\n",
            "          [-1.7228e-01, -4.5186e-02, -9.7870e-02],\n",
            "          [-5.8382e-02,  6.0095e-03, -1.7699e-01]],\n",
            "\n",
            "         [[-8.1435e-02, -1.0756e-01,  3.9206e-02],\n",
            "          [-3.3884e-02,  6.3154e-02, -8.5227e-02],\n",
            "          [-1.0787e-01, -8.6183e-02,  1.1246e-03]],\n",
            "\n",
            "         [[-1.4934e-01,  1.9660e-02, -1.0468e-01],\n",
            "          [ 1.0838e-02,  2.5354e-02, -1.1100e-01],\n",
            "          [-1.7475e-01, -1.7194e-01, -7.5934e-02]]],\n",
            "\n",
            "\n",
            "        [[[-2.2852e-01, -2.2969e-01, -4.7018e-01],\n",
            "          [-2.8356e-01, -1.7578e-01, -5.4482e-01],\n",
            "          [-4.2357e-01, -1.8449e-03, -1.3417e-01]],\n",
            "\n",
            "         [[-2.3534e-01, -2.7391e-01, -1.0629e-01],\n",
            "          [-3.4747e-01, -4.9091e-01, -3.9488e-01],\n",
            "          [-2.9000e-01, -3.7207e-01, -1.0123e-01]],\n",
            "\n",
            "         [[-2.8080e-01, -2.2648e-01, -4.2784e-01],\n",
            "          [-3.5392e-01, -5.2435e-01, -4.8818e-01],\n",
            "          [-2.0916e-01, -2.4204e-01, -2.1375e-01]],\n",
            "\n",
            "         [[-6.1262e-01, -3.2456e-01, -5.6703e-01],\n",
            "          [-5.5829e-01, -5.4572e-02, -3.7706e-01],\n",
            "          [-6.6612e-01, -2.5408e-01, -2.9328e-01]],\n",
            "\n",
            "         [[-3.9258e-01, -2.9080e-01, -2.9066e-01],\n",
            "          [-6.0130e-01, -1.7513e-01, -2.1399e-01],\n",
            "          [-5.3068e-01, -3.9126e-01, -2.7190e-01]],\n",
            "\n",
            "         [[-7.5232e-02, -8.1281e-02, -6.2085e-02],\n",
            "          [-3.3117e-01, -4.5781e-01, -3.3644e-01],\n",
            "          [-3.0902e-01, -4.7663e-01, -2.5990e-01]]],\n",
            "\n",
            "\n",
            "        [[[-2.6175e-01, -2.8074e-01, -7.5023e-02],\n",
            "          [-4.5122e-01, -3.3240e-01, -2.5793e-01],\n",
            "          [-4.3310e-01, -3.6210e-01, -4.0682e-01]],\n",
            "\n",
            "         [[-5.1005e-02, -2.8189e-02, -2.8707e-01],\n",
            "          [-1.8782e-01, -1.7705e-01, -1.5230e-02],\n",
            "          [-1.3846e-01,  8.9554e-03, -5.3591e-02]],\n",
            "\n",
            "         [[-3.0805e-02, -8.1862e-02, -3.2788e-01],\n",
            "          [-1.2329e-01, -4.4942e-02, -8.5674e-02],\n",
            "          [-4.8497e-03,  1.5790e-03, -2.0146e-02]],\n",
            "\n",
            "         [[-1.2069e-01, -3.6872e-02, -1.2461e-01],\n",
            "          [ 7.2995e-02,  7.3703e-02,  8.3697e-02],\n",
            "          [ 5.5603e-02, -1.1626e-01, -7.2657e-02]],\n",
            "\n",
            "         [[ 4.1346e-02, -2.9890e-02, -1.6530e-01],\n",
            "          [-3.9721e-02, -5.9783e-02,  4.6195e-03],\n",
            "          [-7.1766e-02, -1.5777e-01, -1.1484e-01]],\n",
            "\n",
            "         [[ 4.9932e-02, -1.5455e-01, -2.6595e-01],\n",
            "          [-1.1829e-01, -1.3343e-01, -9.3075e-04],\n",
            "          [-3.3491e-01, -1.1347e-01, -1.6883e-01]]]], requires_grad=True)), ('bias', Parameter containing:\n",
            "tensor([-0.2742, -0.0712, -0.2182, -0.1355,  0.1564, -0.2208, -0.1274,  0.4800,\n",
            "        -0.1840, -0.5651, -0.0856, -0.4983, -0.0971, -0.0664, -0.1941, -0.4550],\n",
            "       requires_grad=True))]\n"
          ]
        }
      ]
    },
    {
      "cell_type": "code",
      "source": [
        "print(cl2.weight)"
      ],
      "metadata": {
        "colab": {
          "base_uri": "https://localhost:8080/"
        },
        "id": "mvAPxgv3eHZP",
        "outputId": "ff6a0071-c2e2-4e5d-8cc9-e3718b8bf55e"
      },
      "execution_count": 75,
      "outputs": [
        {
          "output_type": "stream",
          "name": "stdout",
          "text": [
            "Parameter containing:\n",
            "tensor([[[[-2.9197e-01, -1.7541e-01, -2.3538e-01],\n",
            "          [-8.2795e-02, -2.2047e-01, -2.1868e-01],\n",
            "          [-2.0774e-01, -1.1213e-01, -1.2101e-01]],\n",
            "\n",
            "         [[-2.0195e-01, -1.3985e-01, -3.4199e-02],\n",
            "          [-1.4097e-01, -2.2332e-01, -1.4884e-01],\n",
            "          [-2.1444e-01, -1.4968e-01, -1.8975e-01]],\n",
            "\n",
            "         [[-1.2604e-01, -2.2766e-01, -9.6804e-02],\n",
            "          [-1.8803e-01, -1.3268e-01, -2.2254e-01],\n",
            "          [-7.3495e-02, -1.0914e-01, -1.9508e-01]],\n",
            "\n",
            "         [[-3.6320e-02, -6.5639e-02,  5.4846e-02],\n",
            "          [-1.2200e-01, -1.6023e-01, -1.2559e-02],\n",
            "          [-8.8119e-02, -5.0519e-02, -2.3818e-01]],\n",
            "\n",
            "         [[-1.5026e-02, -1.4169e-01, -2.2425e-01],\n",
            "          [-2.4480e-01, -1.6766e-01, -1.8091e-01],\n",
            "          [-2.2163e-01, -2.5864e-01, -9.7141e-02]],\n",
            "\n",
            "         [[ 2.2959e-02, -2.5311e-01, -8.0048e-02],\n",
            "          [-1.4205e-01, -7.8835e-02, -2.3098e-01],\n",
            "          [ 1.6091e-01, -2.8292e-01, -2.1960e-01]]],\n",
            "\n",
            "\n",
            "        [[[ 2.4860e-01,  5.4925e-01, -3.2827e-02],\n",
            "          [ 5.8522e-01,  2.8270e-01,  1.0066e-02],\n",
            "          [ 9.2593e-02, -6.2579e-01, -3.4805e-01]],\n",
            "\n",
            "         [[-7.8174e-01, -2.1174e+00, -1.2880e+00],\n",
            "          [ 4.6454e-01, -1.0226e+00, -4.1182e-02],\n",
            "          [ 4.0170e-01,  4.6060e-01, -2.1825e-01]],\n",
            "\n",
            "         [[-1.1626e-01,  2.2847e-01, -3.3754e-01],\n",
            "          [-4.4379e-01, -1.2707e+00, -1.4895e+00],\n",
            "          [ 1.1999e-01,  6.8578e-01,  1.8843e-01]],\n",
            "\n",
            "         [[ 3.1911e-01,  3.7533e-01,  3.8960e-01],\n",
            "          [-1.2414e-01, -1.2195e+00, -7.4350e-01],\n",
            "          [ 1.8219e-01,  9.4081e-02, -6.4610e-01]],\n",
            "\n",
            "         [[ 2.0188e-01,  1.7670e-01, -3.0900e-01],\n",
            "          [-2.6154e-01, -2.5243e-01, -2.2032e-01],\n",
            "          [ 2.2966e-01, -1.2428e-03,  1.2012e-01]],\n",
            "\n",
            "         [[-9.8394e-01,  2.1158e-01, -2.4291e-01],\n",
            "          [ 7.4474e-02,  1.4658e-01,  4.5031e-01],\n",
            "          [-1.7723e-02,  4.9671e-01,  9.2992e-01]]],\n",
            "\n",
            "\n",
            "        [[[-1.1426e-01, -8.8624e-02,  3.0689e-02],\n",
            "          [-1.3843e-01, -2.0764e-01, -1.3300e-01],\n",
            "          [-2.2382e-02, -1.1456e-01, -7.2142e-02]],\n",
            "\n",
            "         [[-1.4587e-03, -6.2333e-02, -4.2918e-02],\n",
            "          [ 2.7818e-02,  4.5078e-02, -4.9317e-02],\n",
            "          [-7.7251e-02, -5.7430e-02,  7.8919e-02]],\n",
            "\n",
            "         [[-1.6525e-01, -1.6940e-01,  5.3977e-02],\n",
            "          [-3.6364e-02, -1.8312e-01, -8.5034e-02],\n",
            "          [-3.1510e-02, -9.0739e-02, -4.9934e-02]],\n",
            "\n",
            "         [[-7.4523e-03, -1.7009e-01, -1.1641e-02],\n",
            "          [-1.9812e-01, -9.6176e-02,  7.3541e-02],\n",
            "          [-5.1928e-02, -1.7196e-02, -8.2387e-02]],\n",
            "\n",
            "         [[-7.1913e-02, -1.0159e-01,  5.5281e-02],\n",
            "          [-8.3602e-02, -6.3263e-02, -7.1775e-02],\n",
            "          [ 5.7061e-02, -8.2706e-02,  7.4809e-02]],\n",
            "\n",
            "         [[-7.0063e-02, -1.7802e-01, -8.0769e-02],\n",
            "          [-1.7359e-01,  5.7730e-03, -4.4202e-02],\n",
            "          [-2.1212e-01, -1.8785e-01, -1.3335e-01]]],\n",
            "\n",
            "\n",
            "        [[[-1.5766e-01, -1.4777e-01,  6.0607e-02],\n",
            "          [-1.1447e-01, -1.6521e-01, -1.8248e-02],\n",
            "          [-7.8521e-02, -1.0921e-02,  3.4395e-02]],\n",
            "\n",
            "         [[-7.4666e-02,  3.8618e-02, -1.4709e-02],\n",
            "          [-1.2819e-01, -1.0911e-02, -1.7313e-01],\n",
            "          [-1.4371e-01, -3.1175e-02, -1.1300e-01]],\n",
            "\n",
            "         [[-2.8665e-04,  6.1217e-02, -1.0951e-01],\n",
            "          [-1.1631e-01, -7.1173e-02, -3.0614e-02],\n",
            "          [-3.8756e-02,  3.9355e-02,  2.3393e-02]],\n",
            "\n",
            "         [[ 1.9031e-02, -1.2749e-01, -2.9225e-02],\n",
            "          [-1.5918e-01, -1.5529e-01,  4.7930e-02],\n",
            "          [-1.5602e-01, -1.7552e-01, -4.5112e-02]],\n",
            "\n",
            "         [[ 4.9451e-02, -8.7871e-02, -1.7584e-01],\n",
            "          [-1.2571e-01, -7.8756e-02, -6.5233e-02],\n",
            "          [-2.7254e-03, -1.6068e-01,  1.1943e-02]],\n",
            "\n",
            "         [[-1.2949e-01, -1.5714e-01, -1.2470e-01],\n",
            "          [-1.6140e-03, -1.3439e-01, -6.8636e-02],\n",
            "          [-1.2985e-01, -3.1445e-02,  2.4819e-02]]],\n",
            "\n",
            "\n",
            "        [[[ 5.3582e-02, -9.6718e-02,  3.3239e-02],\n",
            "          [-1.0310e+00, -4.6850e-01, -7.1764e-01],\n",
            "          [ 2.2099e-01,  3.9208e-01, -1.4988e+00]],\n",
            "\n",
            "         [[-3.6079e+00, -1.8296e+00,  2.5470e-01],\n",
            "          [-5.4327e+00, -7.2790e-01,  9.0038e-01],\n",
            "          [-6.4201e-01,  9.1418e-01,  7.1947e-01]],\n",
            "\n",
            "         [[-1.2641e+00, -2.1886e+00, -1.2455e+00],\n",
            "          [-5.6090e+00,  3.6757e-01,  1.9030e-01],\n",
            "          [-4.6395e+00,  1.0781e+00,  1.0153e+00]],\n",
            "\n",
            "         [[-8.5346e-01,  4.2838e-01, -1.1341e-01],\n",
            "          [-2.9380e-02,  2.5508e-01,  5.3862e-02],\n",
            "          [-2.4873e-02, -2.6944e-01, -6.5532e-01]],\n",
            "\n",
            "         [[ 1.4524e-01,  8.7995e-02,  1.2825e-01],\n",
            "          [ 2.0329e-02,  2.4011e-02, -1.8225e-01],\n",
            "          [ 1.4406e-01, -1.8319e-01, -8.2190e-01]],\n",
            "\n",
            "         [[-1.0823e+00, -5.0665e-02,  6.8978e-01],\n",
            "          [-1.8164e+00,  6.7992e-01,  8.1222e-01],\n",
            "          [-2.1723e+00, -6.1139e-01, -5.1122e-01]]],\n",
            "\n",
            "\n",
            "        [[[-8.6179e-02,  8.5065e-03, -4.8100e-02],\n",
            "          [-8.8271e-04, -1.1692e-01,  2.9427e-02],\n",
            "          [-2.6851e-02,  2.7008e-03, -1.0911e-01]],\n",
            "\n",
            "         [[-4.4167e-02,  1.1217e-02,  4.5425e-02],\n",
            "          [-6.6898e-02,  3.4820e-02,  4.4814e-02],\n",
            "          [ 3.6654e-02, -9.8756e-02, -1.3750e-01]],\n",
            "\n",
            "         [[-6.8215e-02, -1.8136e-01, -2.1216e-01],\n",
            "          [-1.9442e-01, -7.6413e-02, -1.3187e-01],\n",
            "          [-1.1965e-01,  4.0481e-02,  3.1798e-02]],\n",
            "\n",
            "         [[-5.0201e-02,  6.9876e-02, -1.2132e-02],\n",
            "          [ 1.2459e-02, -2.2624e-01, -1.0887e-01],\n",
            "          [ 7.9448e-03, -1.9503e-01,  7.2798e-02]],\n",
            "\n",
            "         [[-3.2108e-02, -1.2148e-01,  1.1293e-02],\n",
            "          [-7.2367e-02, -1.9387e-01, -4.7670e-02],\n",
            "          [-6.2367e-02, -8.2017e-02, -6.8080e-02]],\n",
            "\n",
            "         [[-1.3543e-01, -4.1836e-02, -4.7029e-02],\n",
            "          [ 8.3077e-03, -1.8669e-01, -1.1378e-01],\n",
            "          [-1.1819e-01, -7.8410e-02,  5.0420e-02]]],\n",
            "\n",
            "\n",
            "        [[[-5.7754e-02, -1.6385e-02, -1.2722e-01],\n",
            "          [ 5.8710e-02, -1.6414e-01, -1.1492e-01],\n",
            "          [-9.8558e-02, -5.5139e-03, -1.0541e-01]],\n",
            "\n",
            "         [[-7.0135e-02, -9.3319e-02, -1.3230e-01],\n",
            "          [-4.6980e-02,  3.8726e-02, -2.0481e-01],\n",
            "          [ 1.4600e-02, -1.3068e-01, -1.5646e-01]],\n",
            "\n",
            "         [[-6.3896e-02, -7.1189e-02, -5.9351e-03],\n",
            "          [-1.4962e-02, -2.8176e-02, -8.0644e-03],\n",
            "          [-3.1641e-02, -1.3984e-01, -2.2848e-01]],\n",
            "\n",
            "         [[-5.9859e-03, -3.0719e-02,  2.6256e-02],\n",
            "          [ 1.8184e-02, -5.1420e-03, -9.1801e-02],\n",
            "          [-1.1528e-01, -1.1363e-01, -8.8260e-02]],\n",
            "\n",
            "         [[-2.1627e-02, -1.3563e-01, -1.7877e-02],\n",
            "          [ 4.5998e-02,  3.6422e-02, -9.0145e-03],\n",
            "          [-8.0174e-02, -1.5359e-01,  5.0338e-02]],\n",
            "\n",
            "         [[ 3.6959e-02, -1.7386e-02, -6.2568e-02],\n",
            "          [-3.2632e-02, -6.1334e-02, -3.5481e-02],\n",
            "          [ 3.1347e-02, -5.3934e-02,  3.1454e-02]]],\n",
            "\n",
            "\n",
            "        [[[ 8.8899e-01, -5.1672e-01,  5.1897e-03],\n",
            "          [-7.0810e-01,  3.5314e-01,  1.1144e-01],\n",
            "          [-4.7014e-01,  1.7534e+00,  2.6431e-01]],\n",
            "\n",
            "         [[-1.0549e+00, -1.4029e+00, -8.6388e-01],\n",
            "          [-8.7065e-01, -3.6640e-01, -2.2752e-02],\n",
            "          [ 9.3680e-01, -3.8493e-01,  6.2674e-02]],\n",
            "\n",
            "         [[-9.4328e-01, -2.4384e+00, -2.7847e-01],\n",
            "          [-5.8753e+00,  6.4420e-01,  2.1655e-01],\n",
            "          [-2.1642e-01, -1.2735e+00, -1.3065e+00]],\n",
            "\n",
            "         [[-6.1355e-01,  1.0516e+00,  7.5415e-02],\n",
            "          [-1.5549e+00,  1.6960e-01,  6.2117e-01],\n",
            "          [-1.6760e+00, -1.8300e+00, -9.3750e-01]],\n",
            "\n",
            "         [[-7.2628e-02,  3.6021e-01,  2.0516e-01],\n",
            "          [ 1.4370e-02,  2.8692e-01, -5.2944e-01],\n",
            "          [-6.3121e-01, -5.1290e-01,  1.4976e-01]],\n",
            "\n",
            "         [[-2.0975e+00, -8.4397e-02,  4.0159e-01],\n",
            "          [-2.2024e+00,  2.7497e-01,  2.5397e-01],\n",
            "          [-5.7144e-01, -4.7925e-01,  1.5021e-01]]],\n",
            "\n",
            "\n",
            "        [[[-2.8616e-01, -3.0586e-02, -4.7938e-01],\n",
            "          [-3.3025e-01, -5.3979e-02, -5.6395e-02],\n",
            "          [-3.4076e-01, -3.6786e-01, -4.5011e-01]],\n",
            "\n",
            "         [[ 1.6022e-02, -5.6868e-01, -3.1817e-02],\n",
            "          [-2.3337e-01, -3.0517e-01, -1.2769e-01],\n",
            "          [-3.4831e-01, -3.2715e-01, -3.6018e-01]],\n",
            "\n",
            "         [[-1.8551e-01, -3.0497e-02,  7.5375e-02],\n",
            "          [-2.5196e-01, -3.0563e-01, -4.6539e-02],\n",
            "          [-2.2683e-01, -2.0291e-01, -2.8928e-01]],\n",
            "\n",
            "         [[-2.0847e-01, -1.2613e-01, -5.4023e-01],\n",
            "          [-4.0583e-01, -4.8247e-01, -1.7243e-01],\n",
            "          [-5.5324e-01,  1.2961e-03,  5.8390e-02]],\n",
            "\n",
            "         [[-1.5094e-01, -7.4809e-02, -1.3340e-01],\n",
            "          [-1.6266e-01, -5.9613e-02, -1.2253e-01],\n",
            "          [-1.7155e-01, -1.7420e-01, -1.6416e-01]],\n",
            "\n",
            "         [[-3.2128e-01, -5.8137e-01, -3.0759e-01],\n",
            "          [-5.7767e-01, -5.8580e-01, -3.7069e-01],\n",
            "          [-6.6922e-01, -2.7904e-01, -2.0341e-01]]],\n",
            "\n",
            "\n",
            "        [[[-6.8263e-01, -2.3456e+00, -2.8044e+00],\n",
            "          [ 6.1196e-01,  6.1802e-01, -4.0254e-01],\n",
            "          [ 1.2041e-01,  3.1305e-01,  7.7833e-01]],\n",
            "\n",
            "         [[-3.6503e-02, -1.1513e-01,  7.0782e-01],\n",
            "          [-1.9366e-01,  2.5356e-01,  3.6550e-01],\n",
            "          [-3.1554e-02,  8.7159e-01,  1.4216e-01]],\n",
            "\n",
            "         [[ 4.9302e-01,  1.0205e+00,  3.5014e-01],\n",
            "          [ 1.0710e-01,  1.0649e-01,  7.6759e-01],\n",
            "          [-1.5746e+00, -1.0266e+00, -4.1104e-01]],\n",
            "\n",
            "         [[ 5.4956e-01, -1.8248e-01, -1.9402e-01],\n",
            "          [-1.7819e-01, -1.7047e+00, -2.5617e+00],\n",
            "          [-1.3078e+00, -1.0192e+00, -1.0609e-01]],\n",
            "\n",
            "         [[-1.7212e-01, -1.9500e-01, -6.0595e-03],\n",
            "          [-9.2769e-01, -6.8600e-01, -1.0304e+00],\n",
            "          [ 2.5745e-01, -2.7931e-01, -5.9645e-02]],\n",
            "\n",
            "         [[ 6.3576e-01, -9.2436e-02,  2.6332e-02],\n",
            "          [-2.7589e-01, -1.5734e-01, -3.1855e-01],\n",
            "          [ 1.1868e-01, -2.5101e-01, -6.3430e-01]]],\n",
            "\n",
            "\n",
            "        [[[ 2.4948e-02, -1.5489e-01, -1.8506e-01],\n",
            "          [-1.8194e-01, -1.0254e-01, -2.0781e-01],\n",
            "          [-6.0985e-02,  1.3839e-02, -1.4669e-01]],\n",
            "\n",
            "         [[-2.0368e-01, -1.0530e-01, -1.4005e-01],\n",
            "          [-1.4291e-01,  7.8368e-03, -1.2223e-01],\n",
            "          [-1.6402e-01,  2.1229e-02, -2.1246e-01]],\n",
            "\n",
            "         [[-1.9637e-03, -1.7224e-01, -2.1858e-01],\n",
            "          [-1.4885e-01, -2.1228e-01, -1.2769e-01],\n",
            "          [ 1.2282e-02, -1.1690e-02,  6.1313e-03]],\n",
            "\n",
            "         [[-1.1223e-01, -9.1210e-02, -7.9989e-02],\n",
            "          [-1.7681e-01, -1.6071e-01, -1.4773e-01],\n",
            "          [ 6.5769e-02, -8.2797e-02, -1.6445e-01]],\n",
            "\n",
            "         [[ 1.4899e-02, -1.0316e-01, -1.2119e-02],\n",
            "          [-4.2239e-02, -1.3053e-01,  9.9662e-03],\n",
            "          [-4.0544e-02, -1.4176e-01, -1.6116e-01]],\n",
            "\n",
            "         [[-1.2822e-01, -3.1811e-02,  3.4734e-02],\n",
            "          [-8.4844e-02, -6.2612e-02, -8.6359e-02],\n",
            "          [-5.5308e-02, -4.3634e-02,  3.1289e-02]]],\n",
            "\n",
            "\n",
            "        [[[-4.5988e-01, -3.1296e-01, -1.4092e-01],\n",
            "          [-4.7659e-01, -3.1619e-01, -6.7069e-01],\n",
            "          [-4.9962e-01,  1.3405e-01, -3.6417e-01]],\n",
            "\n",
            "         [[ 1.5720e-02, -3.4960e-01, -5.5272e-01],\n",
            "          [-3.9581e-02,  1.6102e-01, -3.6267e-01],\n",
            "          [-4.7192e-03, -1.8370e-01, -1.7879e-01]],\n",
            "\n",
            "         [[-4.4815e-01, -8.1165e-01, -4.0948e-01],\n",
            "          [-2.4633e-01, -1.7919e-01, -2.1273e-01],\n",
            "          [-2.0055e-01, -3.4538e-01, -4.2583e-01]],\n",
            "\n",
            "         [[-3.4292e-01,  4.5341e-02,  2.3664e-01],\n",
            "          [-3.5975e-01, -3.2984e-02, -3.3663e-01],\n",
            "          [-1.6285e-01, -3.1642e-01, -3.9860e-01]],\n",
            "\n",
            "         [[-1.1042e-01, -1.0496e-01, -1.5874e-01],\n",
            "          [-9.4204e-02, -7.3071e-02, -8.8415e-02],\n",
            "          [-7.0705e-02, -1.6385e-01, -1.5902e-01]],\n",
            "\n",
            "         [[-8.6497e-01, -1.9427e-01,  1.2252e-01],\n",
            "          [-1.0530e-01, -1.0197e-01, -1.4747e-01],\n",
            "          [-4.1250e-01, -1.7375e-01, -2.7816e-01]]],\n",
            "\n",
            "\n",
            "        [[[-2.1183e-01, -1.2832e-01,  3.2903e-02],\n",
            "          [-1.3492e-01, -1.6607e-01,  1.0500e-02],\n",
            "          [-1.7307e-02, -1.3432e-01, -2.0285e-01]],\n",
            "\n",
            "         [[-2.0529e-01, -2.0682e-01, -1.4068e-01],\n",
            "          [-3.8215e-02, -4.6655e-02, -5.7565e-03],\n",
            "          [-2.0828e-01, -1.5527e-01, -1.6134e-01]],\n",
            "\n",
            "         [[-1.2301e-01, -5.5526e-02,  2.1632e-03],\n",
            "          [-2.4233e-01, -7.6692e-02,  6.7379e-02],\n",
            "          [-1.9693e-01,  5.7661e-02, -2.1744e-01]],\n",
            "\n",
            "         [[ 1.3582e-01, -2.2091e-01, -1.1758e-01],\n",
            "          [-1.3252e-02, -6.9078e-02,  4.0704e-02],\n",
            "          [-1.9275e-01, -1.2550e-01, -4.9426e-02]],\n",
            "\n",
            "         [[-1.0986e-01, -1.6054e-01, -9.7274e-02],\n",
            "          [-1.6879e-01, -2.4532e-01, -1.6025e-01],\n",
            "          [ 3.5505e-03, -1.1827e-01, -2.4149e-01]],\n",
            "\n",
            "         [[-1.0462e-01, -1.3211e-01, -1.7591e-01],\n",
            "          [-1.2522e-01, -2.2192e-01, -1.8798e-01],\n",
            "          [-9.3843e-02, -7.3325e-02, -1.5202e-01]]],\n",
            "\n",
            "\n",
            "        [[[-1.1888e-01, -5.0239e-02, -4.7081e-02],\n",
            "          [-1.2689e-01, -1.6238e-01, -4.7089e-02],\n",
            "          [-1.0290e-01, -1.4845e-01, -1.7114e-01]],\n",
            "\n",
            "         [[ 5.0982e-04,  1.8778e-02, -1.9273e-01],\n",
            "          [-6.6930e-02, -1.8572e-01, -1.5988e-01],\n",
            "          [-3.7589e-02, -2.2650e-01, -6.2780e-02]],\n",
            "\n",
            "         [[-1.0158e-01, -7.8062e-02, -3.8460e-03],\n",
            "          [-1.3636e-01,  3.6623e-02,  1.9645e-02],\n",
            "          [-1.8699e-01,  3.2792e-02, -2.0490e-01]],\n",
            "\n",
            "         [[-1.2062e-02, -2.6649e-02, -1.4382e-01],\n",
            "          [-1.7228e-01, -4.5186e-02, -9.7870e-02],\n",
            "          [-5.8382e-02,  6.0095e-03, -1.7699e-01]],\n",
            "\n",
            "         [[-8.1435e-02, -1.0756e-01,  3.9206e-02],\n",
            "          [-3.3884e-02,  6.3154e-02, -8.5227e-02],\n",
            "          [-1.0787e-01, -8.6183e-02,  1.1246e-03]],\n",
            "\n",
            "         [[-1.4934e-01,  1.9660e-02, -1.0468e-01],\n",
            "          [ 1.0838e-02,  2.5354e-02, -1.1100e-01],\n",
            "          [-1.7475e-01, -1.7194e-01, -7.5934e-02]]],\n",
            "\n",
            "\n",
            "        [[[-2.2852e-01, -2.2969e-01, -4.7018e-01],\n",
            "          [-2.8356e-01, -1.7578e-01, -5.4482e-01],\n",
            "          [-4.2357e-01, -1.8449e-03, -1.3417e-01]],\n",
            "\n",
            "         [[-2.3534e-01, -2.7391e-01, -1.0629e-01],\n",
            "          [-3.4747e-01, -4.9091e-01, -3.9488e-01],\n",
            "          [-2.9000e-01, -3.7207e-01, -1.0123e-01]],\n",
            "\n",
            "         [[-2.8080e-01, -2.2648e-01, -4.2784e-01],\n",
            "          [-3.5392e-01, -5.2435e-01, -4.8818e-01],\n",
            "          [-2.0916e-01, -2.4204e-01, -2.1375e-01]],\n",
            "\n",
            "         [[-6.1262e-01, -3.2456e-01, -5.6703e-01],\n",
            "          [-5.5829e-01, -5.4572e-02, -3.7706e-01],\n",
            "          [-6.6612e-01, -2.5408e-01, -2.9328e-01]],\n",
            "\n",
            "         [[-3.9258e-01, -2.9080e-01, -2.9066e-01],\n",
            "          [-6.0130e-01, -1.7513e-01, -2.1399e-01],\n",
            "          [-5.3068e-01, -3.9126e-01, -2.7190e-01]],\n",
            "\n",
            "         [[-7.5232e-02, -8.1281e-02, -6.2085e-02],\n",
            "          [-3.3117e-01, -4.5781e-01, -3.3644e-01],\n",
            "          [-3.0902e-01, -4.7663e-01, -2.5990e-01]]],\n",
            "\n",
            "\n",
            "        [[[-2.6175e-01, -2.8074e-01, -7.5023e-02],\n",
            "          [-4.5122e-01, -3.3240e-01, -2.5793e-01],\n",
            "          [-4.3310e-01, -3.6210e-01, -4.0682e-01]],\n",
            "\n",
            "         [[-5.1005e-02, -2.8189e-02, -2.8707e-01],\n",
            "          [-1.8782e-01, -1.7705e-01, -1.5230e-02],\n",
            "          [-1.3846e-01,  8.9554e-03, -5.3591e-02]],\n",
            "\n",
            "         [[-3.0805e-02, -8.1862e-02, -3.2788e-01],\n",
            "          [-1.2329e-01, -4.4942e-02, -8.5674e-02],\n",
            "          [-4.8497e-03,  1.5790e-03, -2.0146e-02]],\n",
            "\n",
            "         [[-1.2069e-01, -3.6872e-02, -1.2461e-01],\n",
            "          [ 7.2995e-02,  7.3703e-02,  8.3697e-02],\n",
            "          [ 5.5603e-02, -1.1626e-01, -7.2657e-02]],\n",
            "\n",
            "         [[ 4.1346e-02, -2.9890e-02, -1.6530e-01],\n",
            "          [-3.9721e-02, -5.9783e-02,  4.6195e-03],\n",
            "          [-7.1766e-02, -1.5777e-01, -1.1484e-01]],\n",
            "\n",
            "         [[ 4.9932e-02, -1.5455e-01, -2.6595e-01],\n",
            "          [-1.1829e-01, -1.3343e-01, -9.3075e-04],\n",
            "          [-3.3491e-01, -1.1347e-01, -1.6883e-01]]]], requires_grad=True)\n"
          ]
        }
      ]
    },
    {
      "cell_type": "code",
      "source": [
        "print(cl2.bias)"
      ],
      "metadata": {
        "colab": {
          "base_uri": "https://localhost:8080/"
        },
        "id": "wioMueBPeQH-",
        "outputId": "6865a620-e91a-4db4-e026-b28b28a25504"
      },
      "execution_count": 76,
      "outputs": [
        {
          "output_type": "stream",
          "name": "stdout",
          "text": [
            "Parameter containing:\n",
            "tensor([-0.2742, -0.0712, -0.2182, -0.1355,  0.1564, -0.2208, -0.1274,  0.4800,\n",
            "        -0.1840, -0.5651, -0.0856, -0.4983, -0.0971, -0.0664, -0.1941, -0.4550],\n",
            "       requires_grad=True)\n"
          ]
        }
      ]
    },
    {
      "cell_type": "code",
      "source": [
        "prune.random_unstructured(cl2, name=\"weight\", amount=0.3)"
      ],
      "metadata": {
        "colab": {
          "base_uri": "https://localhost:8080/"
        },
        "id": "NQPAEplmeTEJ",
        "outputId": "d2f78673-0306-4ab1-f2cd-25350d71f437"
      },
      "execution_count": 77,
      "outputs": [
        {
          "output_type": "execute_result",
          "data": {
            "text/plain": [
              "Conv2d(6, 16, kernel_size=(3, 3), stride=(1, 1))"
            ]
          },
          "metadata": {},
          "execution_count": 77
        }
      ]
    },
    {
      "cell_type": "code",
      "source": [
        "print(cl2.weight)"
      ],
      "metadata": {
        "colab": {
          "base_uri": "https://localhost:8080/"
        },
        "id": "-I1MCw-EeYIM",
        "outputId": "a0c6bb9a-7e6b-4589-e03c-a510f57f2b70"
      },
      "execution_count": 78,
      "outputs": [
        {
          "output_type": "stream",
          "name": "stdout",
          "text": [
            "tensor([[[[-2.9197e-01, -0.0000e+00, -2.3538e-01],\n",
            "          [-0.0000e+00, -2.2047e-01, -2.1868e-01],\n",
            "          [-2.0774e-01, -0.0000e+00, -1.2101e-01]],\n",
            "\n",
            "         [[-2.0195e-01, -0.0000e+00, -3.4199e-02],\n",
            "          [-1.4097e-01, -0.0000e+00, -1.4884e-01],\n",
            "          [-0.0000e+00, -1.4968e-01, -1.8975e-01]],\n",
            "\n",
            "         [[-1.2604e-01, -2.2766e-01, -9.6804e-02],\n",
            "          [-1.8803e-01, -1.3268e-01, -2.2254e-01],\n",
            "          [-0.0000e+00, -1.0914e-01, -1.9508e-01]],\n",
            "\n",
            "         [[-3.6320e-02, -6.5639e-02,  5.4846e-02],\n",
            "          [-1.2200e-01, -1.6023e-01, -1.2559e-02],\n",
            "          [-8.8119e-02, -5.0519e-02, -2.3818e-01]],\n",
            "\n",
            "         [[-0.0000e+00, -1.4169e-01, -0.0000e+00],\n",
            "          [-2.4480e-01, -1.6766e-01, -0.0000e+00],\n",
            "          [-2.2163e-01, -2.5864e-01, -9.7141e-02]],\n",
            "\n",
            "         [[ 2.2959e-02, -0.0000e+00, -8.0048e-02],\n",
            "          [-1.4205e-01, -0.0000e+00, -2.3098e-01],\n",
            "          [ 1.6091e-01, -0.0000e+00, -0.0000e+00]]],\n",
            "\n",
            "\n",
            "        [[[ 0.0000e+00,  0.0000e+00, -0.0000e+00],\n",
            "          [ 0.0000e+00,  0.0000e+00,  1.0066e-02],\n",
            "          [ 0.0000e+00, -6.2579e-01, -0.0000e+00]],\n",
            "\n",
            "         [[-7.8174e-01, -2.1174e+00, -1.2880e+00],\n",
            "          [ 4.6454e-01, -0.0000e+00, -0.0000e+00],\n",
            "          [ 4.0170e-01,  4.6060e-01, -0.0000e+00]],\n",
            "\n",
            "         [[-1.1626e-01,  0.0000e+00, -3.3754e-01],\n",
            "          [-0.0000e+00, -1.2707e+00, -1.4895e+00],\n",
            "          [ 0.0000e+00,  6.8578e-01,  1.8843e-01]],\n",
            "\n",
            "         [[ 0.0000e+00,  3.7533e-01,  0.0000e+00],\n",
            "          [-1.2414e-01, -1.2195e+00, -7.4350e-01],\n",
            "          [ 1.8219e-01,  9.4081e-02, -0.0000e+00]],\n",
            "\n",
            "         [[ 2.0188e-01,  1.7670e-01, -3.0900e-01],\n",
            "          [-2.6154e-01, -2.5243e-01, -2.2032e-01],\n",
            "          [ 2.2966e-01, -1.2428e-03,  1.2012e-01]],\n",
            "\n",
            "         [[-0.0000e+00,  2.1158e-01, -0.0000e+00],\n",
            "          [ 0.0000e+00,  1.4658e-01,  4.5031e-01],\n",
            "          [-1.7723e-02,  4.9671e-01,  9.2992e-01]]],\n",
            "\n",
            "\n",
            "        [[[-1.1426e-01, -0.0000e+00,  3.0689e-02],\n",
            "          [-0.0000e+00, -2.0764e-01, -0.0000e+00],\n",
            "          [-0.0000e+00, -1.1456e-01, -7.2142e-02]],\n",
            "\n",
            "         [[-1.4587e-03, -6.2333e-02, -0.0000e+00],\n",
            "          [ 2.7818e-02,  0.0000e+00, -4.9317e-02],\n",
            "          [-0.0000e+00, -5.7430e-02,  7.8919e-02]],\n",
            "\n",
            "         [[-0.0000e+00, -0.0000e+00,  5.3977e-02],\n",
            "          [-3.6364e-02, -0.0000e+00, -0.0000e+00],\n",
            "          [-3.1510e-02, -0.0000e+00, -4.9934e-02]],\n",
            "\n",
            "         [[-7.4523e-03, -0.0000e+00, -0.0000e+00],\n",
            "          [-1.9812e-01, -9.6176e-02,  7.3541e-02],\n",
            "          [-5.1928e-02, -1.7196e-02, -8.2387e-02]],\n",
            "\n",
            "         [[-0.0000e+00, -0.0000e+00,  5.5281e-02],\n",
            "          [-0.0000e+00, -6.3263e-02, -0.0000e+00],\n",
            "          [ 5.7061e-02, -0.0000e+00,  0.0000e+00]],\n",
            "\n",
            "         [[-0.0000e+00, -1.7802e-01, -0.0000e+00],\n",
            "          [-1.7359e-01,  0.0000e+00, -4.4202e-02],\n",
            "          [-2.1212e-01, -1.8785e-01, -1.3335e-01]]],\n",
            "\n",
            "\n",
            "        [[[-0.0000e+00, -1.4777e-01,  6.0607e-02],\n",
            "          [-1.1447e-01, -0.0000e+00, -1.8248e-02],\n",
            "          [-0.0000e+00, -1.0921e-02,  0.0000e+00]],\n",
            "\n",
            "         [[-7.4666e-02,  3.8618e-02, -1.4709e-02],\n",
            "          [-0.0000e+00, -0.0000e+00, -1.7313e-01],\n",
            "          [-1.4371e-01, -3.1175e-02, -1.1300e-01]],\n",
            "\n",
            "         [[-2.8665e-04,  6.1217e-02, -1.0951e-01],\n",
            "          [-1.1631e-01, -7.1173e-02, -0.0000e+00],\n",
            "          [-3.8756e-02,  3.9355e-02,  2.3393e-02]],\n",
            "\n",
            "         [[ 1.9031e-02, -1.2749e-01, -2.9225e-02],\n",
            "          [-1.5918e-01, -0.0000e+00,  4.7930e-02],\n",
            "          [-1.5602e-01, -1.7552e-01, -0.0000e+00]],\n",
            "\n",
            "         [[ 4.9451e-02, -8.7871e-02, -0.0000e+00],\n",
            "          [-1.2571e-01, -7.8756e-02, -0.0000e+00],\n",
            "          [-2.7254e-03, -1.6068e-01,  1.1943e-02]],\n",
            "\n",
            "         [[-1.2949e-01, -0.0000e+00, -1.2470e-01],\n",
            "          [-1.6140e-03, -1.3439e-01, -6.8636e-02],\n",
            "          [-1.2985e-01, -3.1445e-02,  2.4819e-02]]],\n",
            "\n",
            "\n",
            "        [[[ 5.3582e-02, -0.0000e+00,  3.3239e-02],\n",
            "          [-1.0310e+00, -0.0000e+00, -7.1764e-01],\n",
            "          [ 2.2099e-01,  3.9208e-01, -0.0000e+00]],\n",
            "\n",
            "         [[-3.6079e+00, -0.0000e+00,  0.0000e+00],\n",
            "          [-5.4327e+00, -0.0000e+00,  9.0038e-01],\n",
            "          [-6.4201e-01,  9.1418e-01,  7.1947e-01]],\n",
            "\n",
            "         [[-0.0000e+00, -0.0000e+00, -1.2455e+00],\n",
            "          [-5.6090e+00,  0.0000e+00,  0.0000e+00],\n",
            "          [-4.6395e+00,  0.0000e+00,  0.0000e+00]],\n",
            "\n",
            "         [[-8.5346e-01,  4.2838e-01, -1.1341e-01],\n",
            "          [-2.9380e-02,  2.5508e-01,  5.3862e-02],\n",
            "          [-0.0000e+00, -2.6944e-01, -6.5532e-01]],\n",
            "\n",
            "         [[ 0.0000e+00,  8.7995e-02,  1.2825e-01],\n",
            "          [ 2.0329e-02,  0.0000e+00, -1.8225e-01],\n",
            "          [ 1.4406e-01, -0.0000e+00, -8.2190e-01]],\n",
            "\n",
            "         [[-1.0823e+00, -0.0000e+00,  0.0000e+00],\n",
            "          [-1.8164e+00,  6.7992e-01,  8.1222e-01],\n",
            "          [-2.1723e+00, -6.1139e-01, -5.1122e-01]]],\n",
            "\n",
            "\n",
            "        [[[-8.6179e-02,  8.5065e-03, -4.8100e-02],\n",
            "          [-8.8271e-04, -1.1692e-01,  0.0000e+00],\n",
            "          [-0.0000e+00,  2.7008e-03, -1.0911e-01]],\n",
            "\n",
            "         [[-4.4167e-02,  1.1217e-02,  0.0000e+00],\n",
            "          [-6.6898e-02,  0.0000e+00,  0.0000e+00],\n",
            "          [ 0.0000e+00, -0.0000e+00, -0.0000e+00]],\n",
            "\n",
            "         [[-0.0000e+00, -0.0000e+00, -2.1216e-01],\n",
            "          [-1.9442e-01, -7.6413e-02, -0.0000e+00],\n",
            "          [-0.0000e+00,  4.0481e-02,  3.1798e-02]],\n",
            "\n",
            "         [[-5.0201e-02,  0.0000e+00, -0.0000e+00],\n",
            "          [ 1.2459e-02, -2.2624e-01, -1.0887e-01],\n",
            "          [ 7.9448e-03, -1.9503e-01,  7.2798e-02]],\n",
            "\n",
            "         [[-3.2108e-02, -1.2148e-01,  1.1293e-02],\n",
            "          [-0.0000e+00, -0.0000e+00, -0.0000e+00],\n",
            "          [-6.2367e-02, -8.2017e-02, -6.8080e-02]],\n",
            "\n",
            "         [[-1.3543e-01, -4.1836e-02, -0.0000e+00],\n",
            "          [ 8.3077e-03, -0.0000e+00, -0.0000e+00],\n",
            "          [-1.1819e-01, -7.8410e-02,  0.0000e+00]]],\n",
            "\n",
            "\n",
            "        [[[-5.7754e-02, -1.6385e-02, -1.2722e-01],\n",
            "          [ 0.0000e+00, -1.6414e-01, -1.1492e-01],\n",
            "          [-9.8558e-02, -5.5139e-03, -0.0000e+00]],\n",
            "\n",
            "         [[-0.0000e+00, -9.3319e-02, -1.3230e-01],\n",
            "          [-4.6980e-02,  3.8726e-02, -2.0481e-01],\n",
            "          [ 0.0000e+00, -1.3068e-01, -1.5646e-01]],\n",
            "\n",
            "         [[-0.0000e+00, -7.1189e-02, -5.9351e-03],\n",
            "          [-1.4962e-02, -0.0000e+00, -0.0000e+00],\n",
            "          [-0.0000e+00, -1.3984e-01, -0.0000e+00]],\n",
            "\n",
            "         [[-0.0000e+00, -3.0719e-02,  0.0000e+00],\n",
            "          [ 1.8184e-02, -0.0000e+00, -9.1801e-02],\n",
            "          [-0.0000e+00, -1.1363e-01, -0.0000e+00]],\n",
            "\n",
            "         [[-2.1627e-02, -1.3563e-01, -0.0000e+00],\n",
            "          [ 4.5998e-02,  3.6422e-02, -9.0145e-03],\n",
            "          [-0.0000e+00, -1.5359e-01,  5.0338e-02]],\n",
            "\n",
            "         [[ 0.0000e+00, -1.7386e-02, -6.2568e-02],\n",
            "          [-3.2632e-02, -6.1334e-02, -3.5481e-02],\n",
            "          [ 0.0000e+00, -5.3934e-02,  3.1454e-02]]],\n",
            "\n",
            "\n",
            "        [[[ 8.8899e-01, -5.1672e-01,  5.1897e-03],\n",
            "          [-0.0000e+00,  3.5314e-01,  1.1144e-01],\n",
            "          [-4.7014e-01,  0.0000e+00,  2.6431e-01]],\n",
            "\n",
            "         [[-1.0549e+00, -1.4029e+00, -8.6388e-01],\n",
            "          [-8.7065e-01, -0.0000e+00, -2.2752e-02],\n",
            "          [ 9.3680e-01, -0.0000e+00,  6.2674e-02]],\n",
            "\n",
            "         [[-0.0000e+00, -2.4384e+00, -2.7847e-01],\n",
            "          [-5.8753e+00,  6.4420e-01,  2.1655e-01],\n",
            "          [-0.0000e+00, -1.2735e+00, -1.3065e+00]],\n",
            "\n",
            "         [[-6.1355e-01,  1.0516e+00,  7.5415e-02],\n",
            "          [-1.5549e+00,  1.6960e-01,  0.0000e+00],\n",
            "          [-1.6760e+00, -1.8300e+00, -0.0000e+00]],\n",
            "\n",
            "         [[-7.2628e-02,  3.6021e-01,  0.0000e+00],\n",
            "          [ 1.4370e-02,  2.8692e-01, -0.0000e+00],\n",
            "          [-6.3121e-01, -0.0000e+00,  1.4976e-01]],\n",
            "\n",
            "         [[-2.0975e+00, -8.4397e-02,  4.0159e-01],\n",
            "          [-0.0000e+00,  2.7497e-01,  2.5397e-01],\n",
            "          [-5.7144e-01, -4.7925e-01,  0.0000e+00]]],\n",
            "\n",
            "\n",
            "        [[[-2.8616e-01, -0.0000e+00, -4.7938e-01],\n",
            "          [-3.3025e-01, -5.3979e-02, -0.0000e+00],\n",
            "          [-3.4076e-01, -0.0000e+00, -4.5011e-01]],\n",
            "\n",
            "         [[ 0.0000e+00, -5.6868e-01, -0.0000e+00],\n",
            "          [-2.3337e-01, -3.0517e-01, -0.0000e+00],\n",
            "          [-3.4831e-01, -3.2715e-01, -3.6018e-01]],\n",
            "\n",
            "         [[-1.8551e-01, -3.0497e-02,  7.5375e-02],\n",
            "          [-2.5196e-01, -3.0563e-01, -0.0000e+00],\n",
            "          [-2.2683e-01, -2.0291e-01, -2.8928e-01]],\n",
            "\n",
            "         [[-2.0847e-01, -1.2613e-01, -5.4023e-01],\n",
            "          [-4.0583e-01, -4.8247e-01, -1.7243e-01],\n",
            "          [-5.5324e-01,  0.0000e+00,  5.8390e-02]],\n",
            "\n",
            "         [[-1.5094e-01, -7.4809e-02, -1.3340e-01],\n",
            "          [-0.0000e+00, -0.0000e+00, -0.0000e+00],\n",
            "          [-1.7155e-01, -0.0000e+00, -1.6416e-01]],\n",
            "\n",
            "         [[-3.2128e-01, -0.0000e+00, -3.0759e-01],\n",
            "          [-5.7767e-01, -5.8580e-01, -3.7069e-01],\n",
            "          [-6.6922e-01, -2.7904e-01, -2.0341e-01]]],\n",
            "\n",
            "\n",
            "        [[[-6.8263e-01, -2.3456e+00, -0.0000e+00],\n",
            "          [ 6.1196e-01,  0.0000e+00, -4.0254e-01],\n",
            "          [ 1.2041e-01,  3.1305e-01,  7.7833e-01]],\n",
            "\n",
            "         [[-3.6503e-02, -1.1513e-01,  7.0782e-01],\n",
            "          [-0.0000e+00,  2.5356e-01,  3.6550e-01],\n",
            "          [-3.1554e-02,  8.7159e-01,  1.4216e-01]],\n",
            "\n",
            "         [[ 4.9302e-01,  0.0000e+00,  3.5014e-01],\n",
            "          [ 0.0000e+00,  1.0649e-01,  7.6759e-01],\n",
            "          [-1.5746e+00, -1.0266e+00, -0.0000e+00]],\n",
            "\n",
            "         [[ 5.4956e-01, -1.8248e-01, -1.9402e-01],\n",
            "          [-1.7819e-01, -1.7047e+00, -2.5617e+00],\n",
            "          [-1.3078e+00, -1.0192e+00, -1.0609e-01]],\n",
            "\n",
            "         [[-0.0000e+00, -0.0000e+00, -0.0000e+00],\n",
            "          [-9.2769e-01, -0.0000e+00, -1.0304e+00],\n",
            "          [ 2.5745e-01, -2.7931e-01, -5.9645e-02]],\n",
            "\n",
            "         [[ 0.0000e+00, -9.2436e-02,  2.6332e-02],\n",
            "          [-2.7589e-01, -1.5734e-01, -0.0000e+00],\n",
            "          [ 0.0000e+00, -2.5101e-01, -6.3430e-01]]],\n",
            "\n",
            "\n",
            "        [[[ 2.4948e-02, -1.5489e-01, -0.0000e+00],\n",
            "          [-1.8194e-01, -0.0000e+00, -2.0781e-01],\n",
            "          [-6.0985e-02,  1.3839e-02, -0.0000e+00]],\n",
            "\n",
            "         [[-0.0000e+00, -1.0530e-01, -1.4005e-01],\n",
            "          [-1.4291e-01,  0.0000e+00, -1.2223e-01],\n",
            "          [-0.0000e+00,  2.1229e-02, -2.1246e-01]],\n",
            "\n",
            "         [[-1.9637e-03, -0.0000e+00, -2.1858e-01],\n",
            "          [-1.4885e-01, -0.0000e+00, -1.2769e-01],\n",
            "          [ 0.0000e+00, -1.1690e-02,  0.0000e+00]],\n",
            "\n",
            "         [[-0.0000e+00, -9.1210e-02, -0.0000e+00],\n",
            "          [-0.0000e+00, -1.6071e-01, -0.0000e+00],\n",
            "          [ 6.5769e-02, -0.0000e+00, -1.6445e-01]],\n",
            "\n",
            "         [[ 1.4899e-02, -1.0316e-01, -1.2119e-02],\n",
            "          [-4.2239e-02, -1.3053e-01,  9.9662e-03],\n",
            "          [-4.0544e-02, -1.4176e-01, -1.6116e-01]],\n",
            "\n",
            "         [[-0.0000e+00, -3.1811e-02,  3.4734e-02],\n",
            "          [-8.4844e-02, -6.2612e-02, -8.6359e-02],\n",
            "          [-0.0000e+00, -4.3634e-02,  3.1289e-02]]],\n",
            "\n",
            "\n",
            "        [[[-4.5988e-01, -0.0000e+00, -1.4092e-01],\n",
            "          [-4.7659e-01, -0.0000e+00, -6.7069e-01],\n",
            "          [-4.9962e-01,  1.3405e-01, -3.6417e-01]],\n",
            "\n",
            "         [[ 1.5720e-02, -3.4960e-01, -0.0000e+00],\n",
            "          [-3.9581e-02,  1.6102e-01, -3.6267e-01],\n",
            "          [-4.7192e-03, -1.8370e-01, -1.7879e-01]],\n",
            "\n",
            "         [[-4.4815e-01, -0.0000e+00, -0.0000e+00],\n",
            "          [-0.0000e+00, -0.0000e+00, -2.1273e-01],\n",
            "          [-0.0000e+00, -0.0000e+00, -0.0000e+00]],\n",
            "\n",
            "         [[-0.0000e+00,  4.5341e-02,  2.3664e-01],\n",
            "          [-0.0000e+00, -3.2984e-02, -0.0000e+00],\n",
            "          [-1.6285e-01, -0.0000e+00, -0.0000e+00]],\n",
            "\n",
            "         [[-1.1042e-01, -0.0000e+00, -1.5874e-01],\n",
            "          [-9.4204e-02, -7.3071e-02, -0.0000e+00],\n",
            "          [-7.0705e-02, -1.6385e-01, -1.5902e-01]],\n",
            "\n",
            "         [[-8.6497e-01, -0.0000e+00,  0.0000e+00],\n",
            "          [-1.0530e-01, -0.0000e+00, -0.0000e+00],\n",
            "          [-4.1250e-01, -1.7375e-01, -0.0000e+00]]],\n",
            "\n",
            "\n",
            "        [[[-0.0000e+00, -0.0000e+00,  3.2903e-02],\n",
            "          [-1.3492e-01, -1.6607e-01,  1.0500e-02],\n",
            "          [-1.7307e-02, -1.3432e-01, -2.0285e-01]],\n",
            "\n",
            "         [[-2.0529e-01, -2.0682e-01, -1.4068e-01],\n",
            "          [-0.0000e+00, -4.6655e-02, -5.7565e-03],\n",
            "          [-0.0000e+00, -1.5527e-01, -1.6134e-01]],\n",
            "\n",
            "         [[-0.0000e+00, -5.5526e-02,  2.1632e-03],\n",
            "          [-2.4233e-01, -0.0000e+00,  6.7379e-02],\n",
            "          [-1.9693e-01,  5.7661e-02, -2.1744e-01]],\n",
            "\n",
            "         [[ 1.3582e-01, -2.2091e-01, -1.1758e-01],\n",
            "          [-1.3252e-02, -6.9078e-02,  0.0000e+00],\n",
            "          [-0.0000e+00, -0.0000e+00, -0.0000e+00]],\n",
            "\n",
            "         [[-1.0986e-01, -1.6054e-01, -0.0000e+00],\n",
            "          [-1.6879e-01, -2.4532e-01, -1.6025e-01],\n",
            "          [ 3.5505e-03, -1.1827e-01, -2.4149e-01]],\n",
            "\n",
            "         [[-1.0462e-01, -1.3211e-01, -1.7591e-01],\n",
            "          [-1.2522e-01, -2.2192e-01, -1.8798e-01],\n",
            "          [-9.3843e-02, -7.3325e-02, -1.5202e-01]]],\n",
            "\n",
            "\n",
            "        [[[-1.1888e-01, -5.0239e-02, -4.7081e-02],\n",
            "          [-1.2689e-01, -1.6238e-01, -0.0000e+00],\n",
            "          [-0.0000e+00, -0.0000e+00, -1.7114e-01]],\n",
            "\n",
            "         [[ 5.0982e-04,  1.8778e-02, -1.9273e-01],\n",
            "          [-6.6930e-02, -1.8572e-01, -1.5988e-01],\n",
            "          [-0.0000e+00, -2.2650e-01, -6.2780e-02]],\n",
            "\n",
            "         [[-1.0158e-01, -7.8062e-02, -3.8460e-03],\n",
            "          [-1.3636e-01,  3.6623e-02,  0.0000e+00],\n",
            "          [-1.8699e-01,  3.2792e-02, -2.0490e-01]],\n",
            "\n",
            "         [[-1.2062e-02, -0.0000e+00, -1.4382e-01],\n",
            "          [-0.0000e+00, -4.5186e-02, -9.7870e-02],\n",
            "          [-5.8382e-02,  6.0095e-03, -0.0000e+00]],\n",
            "\n",
            "         [[-8.1435e-02, -1.0756e-01,  0.0000e+00],\n",
            "          [-3.3884e-02,  6.3154e-02, -0.0000e+00],\n",
            "          [-1.0787e-01, -0.0000e+00,  1.1246e-03]],\n",
            "\n",
            "         [[-1.4934e-01,  1.9660e-02, -1.0468e-01],\n",
            "          [ 1.0838e-02,  2.5354e-02, -1.1100e-01],\n",
            "          [-1.7475e-01, -1.7194e-01, -7.5934e-02]]],\n",
            "\n",
            "\n",
            "        [[[-2.2852e-01, -2.2969e-01, -4.7018e-01],\n",
            "          [-2.8356e-01, -0.0000e+00, -0.0000e+00],\n",
            "          [-0.0000e+00, -1.8449e-03, -0.0000e+00]],\n",
            "\n",
            "         [[-0.0000e+00, -2.7391e-01, -1.0629e-01],\n",
            "          [-3.4747e-01, -0.0000e+00, -3.9488e-01],\n",
            "          [-2.9000e-01, -0.0000e+00, -1.0123e-01]],\n",
            "\n",
            "         [[-2.8080e-01, -2.2648e-01, -4.2784e-01],\n",
            "          [-3.5392e-01, -5.2435e-01, -4.8818e-01],\n",
            "          [-2.0916e-01, -2.4204e-01, -2.1375e-01]],\n",
            "\n",
            "         [[-6.1262e-01, -3.2456e-01, -0.0000e+00],\n",
            "          [-5.5829e-01, -0.0000e+00, -3.7706e-01],\n",
            "          [-0.0000e+00, -2.5408e-01, -2.9328e-01]],\n",
            "\n",
            "         [[-3.9258e-01, -0.0000e+00, -2.9066e-01],\n",
            "          [-0.0000e+00, -1.7513e-01, -0.0000e+00],\n",
            "          [-5.3068e-01, -3.9126e-01, -2.7190e-01]],\n",
            "\n",
            "         [[-7.5232e-02, -0.0000e+00, -6.2085e-02],\n",
            "          [-3.3117e-01, -0.0000e+00, -3.3644e-01],\n",
            "          [-3.0902e-01, -4.7663e-01, -2.5990e-01]]],\n",
            "\n",
            "\n",
            "        [[[-2.6175e-01, -0.0000e+00, -0.0000e+00],\n",
            "          [-4.5122e-01, -3.3240e-01, -0.0000e+00],\n",
            "          [-4.3310e-01, -3.6210e-01, -0.0000e+00]],\n",
            "\n",
            "         [[-5.1005e-02, -0.0000e+00, -2.8707e-01],\n",
            "          [-0.0000e+00, -1.7705e-01, -0.0000e+00],\n",
            "          [-1.3846e-01,  8.9554e-03, -5.3591e-02]],\n",
            "\n",
            "         [[-0.0000e+00, -8.1862e-02, -3.2788e-01],\n",
            "          [-0.0000e+00, -4.4942e-02, -8.5674e-02],\n",
            "          [-0.0000e+00,  1.5790e-03, -2.0146e-02]],\n",
            "\n",
            "         [[-1.2069e-01, -0.0000e+00, -1.2461e-01],\n",
            "          [ 7.2995e-02,  0.0000e+00,  8.3697e-02],\n",
            "          [ 5.5603e-02, -1.1626e-01, -0.0000e+00]],\n",
            "\n",
            "         [[ 4.1346e-02, -2.9890e-02, -0.0000e+00],\n",
            "          [-3.9721e-02, -5.9783e-02,  4.6195e-03],\n",
            "          [-7.1766e-02, -1.5777e-01, -0.0000e+00]],\n",
            "\n",
            "         [[ 4.9932e-02, -1.5455e-01, -2.6595e-01],\n",
            "          [-0.0000e+00, -0.0000e+00, -9.3075e-04],\n",
            "          [-0.0000e+00, -1.1347e-01, -0.0000e+00]]]], grad_fn=<MulBackward0>)\n"
          ]
        }
      ]
    },
    {
      "cell_type": "code",
      "source": [
        "weight_sparsity2 = (cl2.weight.data == 0).sum() / cl2.weight.data.nelement()\n",
        "print(f\"Sparsity: {weight_sparsity2 * 100:.2f}%\")"
      ],
      "metadata": {
        "colab": {
          "base_uri": "https://localhost:8080/"
        },
        "id": "cAn_xnCiebz3",
        "outputId": "90706560-693a-42ee-cb18-8523c3477b47"
      },
      "execution_count": 83,
      "outputs": [
        {
          "output_type": "stream",
          "name": "stdout",
          "text": [
            "Sparsity: 29.98%\n"
          ]
        }
      ]
    },
    {
      "cell_type": "markdown",
      "source": [
        "29.98% of the weights have been pruned"
      ],
      "metadata": {
        "id": "X-kl7q_JfDzc"
      }
    },
    {
      "cell_type": "code",
      "source": [
        "prune.random_unstructured(cl2, name=\"bias\", amount=0.3)"
      ],
      "metadata": {
        "colab": {
          "base_uri": "https://localhost:8080/"
        },
        "id": "C9G3KC1vfX5z",
        "outputId": "6dcf5649-96de-4859-d322-135bbf7864a1"
      },
      "execution_count": 86,
      "outputs": [
        {
          "output_type": "execute_result",
          "data": {
            "text/plain": [
              "Conv2d(6, 16, kernel_size=(3, 3), stride=(1, 1))"
            ]
          },
          "metadata": {},
          "execution_count": 86
        }
      ]
    },
    {
      "cell_type": "code",
      "source": [
        "print(cl2.bias)"
      ],
      "metadata": {
        "colab": {
          "base_uri": "https://localhost:8080/"
        },
        "id": "vTI-IfyXfhuC",
        "outputId": "60d5ca9e-09e4-4e68-c812-df382a88f767"
      },
      "execution_count": 88,
      "outputs": [
        {
          "output_type": "stream",
          "name": "stdout",
          "text": [
            "tensor([-0.0000, -0.0712, -0.2182, -0.1355,  0.1564, -0.2208, -0.0000,  0.0000,\n",
            "        -0.1840, -0.0000, -0.0856, -0.0000, -0.0971, -0.0664, -0.1941, -0.4550],\n",
            "       grad_fn=<MulBackward0>)\n"
          ]
        }
      ]
    },
    {
      "cell_type": "code",
      "source": [
        "bias_sparsity2 = (cl2.bias.data == 0).sum() / cl2.bias.data.nelement()\n",
        "print(f\"Sparsity: {bias_sparsity2 * 100:.2f}%\")"
      ],
      "metadata": {
        "colab": {
          "base_uri": "https://localhost:8080/"
        },
        "id": "lLxvLRQifbiw",
        "outputId": "fa00c5f8-8671-4314-833e-eb8cd92e6f32"
      },
      "execution_count": 87,
      "outputs": [
        {
          "output_type": "stream",
          "name": "stdout",
          "text": [
            "Sparsity: 31.25%\n"
          ]
        }
      ]
    },
    {
      "cell_type": "markdown",
      "source": [
        "31.25% of the biases have been pruned."
      ],
      "metadata": {
        "id": "YWDhaNT9fmAq"
      }
    },
    {
      "cell_type": "code",
      "source": [
        "print(cl1)"
      ],
      "metadata": {
        "colab": {
          "base_uri": "https://localhost:8080/"
        },
        "id": "_c0Rr6K8jkvj",
        "outputId": "f2714cc0-d99c-4b86-bc1a-6c2110247300"
      },
      "execution_count": 97,
      "outputs": [
        {
          "output_type": "stream",
          "name": "stdout",
          "text": [
            "Conv2d(1, 6, kernel_size=(3, 3), stride=(1, 1))\n"
          ]
        }
      ]
    },
    {
      "cell_type": "code",
      "source": [
        "for name, module in model.named_modules():\n",
        "    if isinstance(module, torch.nn.Conv2d):\n",
        "      if name == \"conv1\":\n",
        "        model.conv1 = cl1\n",
        "      elif name == \"conv2\":\n",
        "        model.conv2 = cl2\n"
      ],
      "metadata": {
        "id": "OAZXjQmskLAE"
      },
      "execution_count": 103,
      "outputs": []
    },
    {
      "cell_type": "code",
      "source": [
        "optimizer = torch.optim.Adam(model.parameters(), lr=0.01)\n",
        "criterion = nn.CrossEntropyLoss()"
      ],
      "metadata": {
        "id": "KI7rQenOkYBM"
      },
      "execution_count": 14,
      "outputs": []
    },
    {
      "cell_type": "code",
      "source": [
        "\n",
        "epochs = 5\n",
        "train_losses = []\n",
        "test_losses = []\n",
        "train_correct = []\n",
        "test_correct = []\n",
        "\n",
        "for i in range(epochs):\n",
        "    trn_corr = 0\n",
        "    tst_corr = 0\n",
        "\n",
        "    for b, (X_train, y_train) in enumerate(train_loader):\n",
        "        b += 1\n",
        "        y_pred = model(X_train)\n",
        "        loss = criterion(y_pred, y_train)\n",
        "        predicted = torch.max(y_pred.data, 1)[1]\n",
        "        batch_corr = (predicted == y_train).sum().item()\n",
        "        trn_corr += batch_corr\n",
        "\n",
        "        optimizer.zero_grad()\n",
        "        loss.backward()\n",
        "        optimizer.step()\n",
        "\n",
        "        if b % 600 == 0:\n",
        "            print(f'epoch: {i}  batch: {b}  loss: {loss.item()}')\n",
        "\n",
        "    train_losses.append(loss.item())\n",
        "    train_correct.append(trn_corr)\n",
        "\n",
        "    with torch.no_grad():\n",
        "        for b, (X_test, y_test) in enumerate(test_loader):\n",
        "            y_val = model(X_test)\n",
        "            predicted = torch.max(y_val.data, 1)[1]\n",
        "            tst_corr += (predicted == y_test).sum().item()\n",
        "\n",
        "    loss = criterion(y_val, y_test)\n",
        "    test_losses.append(loss.item())\n",
        "    if test_losses:\n",
        "       avg_test_loss = sum(test_losses) / len(test_losses)\n",
        "       print(f\"epoch {i}: Average Test Loss: {avg_test_loss}\")\n",
        "    test_correct.append(tst_corr)\n",
        "\n",
        "    test_acc = tst_corr / len(test_data) * 100\n",
        "    print(f\"Epoch {i}: Test Accuracy: {test_acc:.2f}%\")\n"
      ],
      "metadata": {
        "colab": {
          "base_uri": "https://localhost:8080/"
        },
        "id": "nEBmJBRkkmq3",
        "outputId": "796de381-7e84-4ea4-bffb-f8f79335141b"
      },
      "execution_count": 16,
      "outputs": [
        {
          "output_type": "stream",
          "name": "stdout",
          "text": [
            "epoch: 0  batch: 600  loss: 0.01044799480587244\n",
            "epoch: 0  batch: 1200  loss: 0.0383114367723465\n",
            "epoch: 0  batch: 1800  loss: 0.0022393460385501385\n",
            "epoch: 0  batch: 2400  loss: 0.02687985822558403\n",
            "epoch: 0  batch: 3000  loss: 0.003188878996297717\n",
            "epoch: 0  batch: 3600  loss: 0.10026764869689941\n",
            "epoch: 0  batch: 4200  loss: 0.07550647109746933\n",
            "epoch: 0  batch: 4800  loss: 0.001787097891792655\n",
            "epoch: 0  batch: 5400  loss: 0.00787337590008974\n",
            "epoch: 0  batch: 6000  loss: 0.14560212194919586\n",
            "epoch 0: Average Test Loss: 0.03700747340917587\n",
            "Epoch 0: Test Accuracy: 96.59%\n",
            "epoch: 1  batch: 600  loss: 0.002541531575843692\n",
            "epoch: 1  batch: 1200  loss: 0.005617078859359026\n",
            "epoch: 1  batch: 1800  loss: 0.0026692659594118595\n",
            "epoch: 1  batch: 2400  loss: 0.020984234288334846\n",
            "epoch: 1  batch: 3000  loss: 0.3789822459220886\n",
            "epoch: 1  batch: 3600  loss: 0.01287914626300335\n",
            "epoch: 1  batch: 4200  loss: 0.04014044255018234\n",
            "epoch: 1  batch: 4800  loss: 0.040385328233242035\n",
            "epoch: 1  batch: 5400  loss: 0.02610633336007595\n",
            "epoch: 1  batch: 6000  loss: 0.0012261694064363837\n",
            "epoch 1: Average Test Loss: 0.022645972669124603\n",
            "Epoch 1: Test Accuracy: 97.02%\n",
            "epoch: 2  batch: 600  loss: 3.981164991273545e-05\n",
            "epoch: 2  batch: 1200  loss: 0.0028669778257608414\n",
            "epoch: 2  batch: 1800  loss: 0.010108621791005135\n",
            "epoch: 2  batch: 2400  loss: 0.0018789448076859117\n",
            "epoch: 2  batch: 3000  loss: 0.2002841979265213\n",
            "epoch: 2  batch: 3600  loss: 0.056580692529678345\n",
            "epoch: 2  batch: 4200  loss: 0.048078812658786774\n",
            "epoch: 2  batch: 4800  loss: 0.01343467365950346\n",
            "epoch: 2  batch: 5400  loss: 0.005182065535336733\n",
            "epoch: 2  batch: 6000  loss: 0.055403757840394974\n",
            "epoch 2: Average Test Loss: 0.03335565204421679\n",
            "Epoch 2: Test Accuracy: 96.97%\n",
            "epoch: 3  batch: 600  loss: 0.002120808931067586\n",
            "epoch: 3  batch: 1200  loss: 0.2813466489315033\n",
            "epoch: 3  batch: 1800  loss: 0.18628205358982086\n",
            "epoch: 3  batch: 2400  loss: 0.1918310523033142\n",
            "epoch: 3  batch: 3000  loss: 0.6171795725822449\n",
            "epoch: 3  batch: 3600  loss: 0.23513901233673096\n",
            "epoch: 3  batch: 4200  loss: 0.5457850694656372\n",
            "epoch: 3  batch: 4800  loss: 0.017141971737146378\n",
            "epoch: 3  batch: 5400  loss: 3.533036942826584e-05\n",
            "epoch: 3  batch: 6000  loss: 0.37729376554489136\n",
            "epoch 3: Average Test Loss: 0.025350844458444044\n",
            "Epoch 3: Test Accuracy: 96.72%\n",
            "epoch: 4  batch: 600  loss: 0.7528647184371948\n",
            "epoch: 4  batch: 1200  loss: 0.0003170818672515452\n",
            "epoch: 4  batch: 1800  loss: 0.0764661505818367\n",
            "epoch: 4  batch: 2400  loss: 0.06891772150993347\n",
            "epoch: 4  batch: 3000  loss: 0.011807430535554886\n",
            "epoch: 4  batch: 3600  loss: 0.31918326020240784\n",
            "epoch: 4  batch: 4200  loss: 0.43251657485961914\n",
            "epoch: 4  batch: 4800  loss: 0.0069719841703772545\n",
            "epoch: 4  batch: 5400  loss: 0.20192933082580566\n",
            "epoch: 4  batch: 6000  loss: 0.002089923480525613\n",
            "epoch 4: Average Test Loss: 0.020356861787149683\n",
            "Epoch 4: Test Accuracy: 96.15%\n"
          ]
        }
      ]
    },
    {
      "cell_type": "markdown",
      "source": [
        "Average accuracy = 96.69%"
      ],
      "metadata": {
        "id": "rSnxmHVo99XG"
      }
    },
    {
      "cell_type": "code",
      "source": [
        "plt.plot(train_losses, label='Training loss', marker='o')\n",
        "plt.plot(test_losses, label='Testing loss', marker='o')\n",
        "plt.xlabel('Epochs')\n",
        "plt.ylabel('Loss')\n",
        "plt.title('Loss vs Epochs')\n",
        "plt.legend()"
      ],
      "metadata": {
        "colab": {
          "base_uri": "https://localhost:8080/",
          "height": 490
        },
        "id": "-5t44jblltmJ",
        "outputId": "8fa164f6-947b-4da8-a3fe-f130a1c52d40"
      },
      "execution_count": 5,
      "outputs": [
        {
          "output_type": "execute_result",
          "data": {
            "text/plain": [
              "<matplotlib.legend.Legend at 0x78c837e71810>"
            ]
          },
          "metadata": {},
          "execution_count": 5
        },
        {
          "output_type": "display_data",
          "data": {
            "text/plain": [
              "<Figure size 640x480 with 1 Axes>"
            ],
            "image/png": "[encoded data removed]"
          },
          "metadata": {}
        }
      ]
    },
    {
      "cell_type": "code",
      "source": [
        "plt.plot(test_correct, label='Testing Accuracy', marker='o')\n",
        "plt.xlabel('Epochs')\n",
        "plt.ylabel('Accuracy')\n",
        "plt.title('Accuracy vs Epochs')\n",
        "plt.legend()"
      ],
      "metadata": {
        "colab": {
          "base_uri": "https://localhost:8080/",
          "height": 490
        },
        "id": "F_dxzxui69aV",
        "outputId": "2f06d600-af22-439c-acf9-fe1d856d9569"
      },
      "execution_count": 6,
      "outputs": [
        {
          "output_type": "execute_result",
          "data": {
            "text/plain": [
              "<matplotlib.legend.Legend at 0x78c837e72d10>"
            ]
          },
          "metadata": {},
          "execution_count": 6
        },
        {
          "output_type": "display_data",
          "data": {
            "text/plain": [
              "<Figure size 640x480 with 1 Axes>"
            ],
            "image/png": "[encoded data removed]"
          },
          "metadata": {}
        }
      ]
    },
    {
      "cell_type": "markdown",
      "source": [
        "So what we can see is that the accuracy has improved overall . For 4 out of the 5 epochs , the accuracy was higher than simple training and testing ."
      ],
      "metadata": {
        "id": "YXT3wDGt743v"
      }
    },
    {
      "cell_type": "code",
      "source": [
        "random = test_data[100]\n",
        "random"
      ],
      "metadata": {
        "colab": {
          "base_uri": "https://localhost:8080/"
        },
        "id": "o3kK3cQW9XO_",
        "outputId": "fe3e2a5c-9e24-4802-c626-f2f5489a2684"
      },
      "execution_count": 7,
      "outputs": [
        {
          "output_type": "execute_result",
          "data": {
            "text/plain": [
              "(tensor([[[0.0000, 0.0000, 0.0000, 0.0000, 0.0000, 0.0000, 0.0000, 0.0000,\n",
              "           0.0000, 0.0000, 0.0000, 0.0000, 0.0000, 0.0000, 0.0000, 0.0000,\n",
              "           0.0000, 0.0000, 0.0000, 0.0000, 0.0000, 0.0000, 0.0000, 0.0000,\n",
              "           0.0000, 0.0000, 0.0000, 0.0000],\n",
              "          [0.0000, 0.0000, 0.0000, 0.0000, 0.0000, 0.0000, 0.0000, 0.0000,\n",
              "           0.0000, 0.0000, 0.0000, 0.0000, 0.0000, 0.0000, 0.0000, 0.0000,\n",
              "           0.0000, 0.0000, 0.0000, 0.0000, 0.0000, 0.0000, 0.0000, 0.0000,\n",
              "           0.0000, 0.0000, 0.0000, 0.0000],\n",
              "          [0.0000, 0.0000, 0.0000, 0.0000, 0.0000, 0.0000, 0.0000, 0.0000,\n",
              "           0.0000, 0.0000, 0.0000, 0.0000, 0.4980, 0.8667, 0.2039, 0.0000,\n",
              "           0.0000, 0.0000, 0.0000, 0.0000, 0.0000, 0.0000, 0.0000, 0.0000,\n",
              "           0.0000, 0.0000, 0.0000, 0.0000],\n",
              "          [0.0000, 0.0000, 0.0000, 0.0000, 0.0000, 0.0000, 0.0000, 0.0000,\n",
              "           0.0000, 0.0000, 0.0000, 0.2510, 0.8980, 0.8588, 0.4078, 0.0000,\n",
              "           0.0000, 0.0000, 0.0000, 0.0000, 0.0000, 0.0000, 0.0000, 0.0000,\n",
              "           0.0000, 0.0000, 0.0000, 0.0000],\n",
              "          [0.0000, 0.0000, 0.0000, 0.0000, 0.0000, 0.0000, 0.0000, 0.0000,\n",
              "           0.0000, 0.0000, 0.0510, 0.9216, 0.5490, 0.0157, 0.0118, 0.0000,\n",
              "           0.0000, 0.0000, 0.0000, 0.0000, 0.0000, 0.0000, 0.0000, 0.0000,\n",
              "           0.0000, 0.0000, 0.0000, 0.0000],\n",
              "          [0.0000, 0.0000, 0.0000, 0.0000, 0.0000, 0.0000, 0.0000, 0.0000,\n",
              "           0.0000, 0.0000, 0.4627, 0.8902, 0.0980, 0.0000, 0.0000, 0.0000,\n",
              "           0.0000, 0.0000, 0.0000, 0.0000, 0.0000, 0.0000, 0.0000, 0.0000,\n",
              "           0.0000, 0.0000, 0.0000, 0.0000],\n",
              "          [0.0000, 0.0000, 0.0000, 0.0000, 0.0000, 0.0000, 0.0000, 0.0000,\n",
              "           0.0000, 0.0000, 0.9255, 0.5216, 0.0000, 0.0000, 0.0000, 0.0000,\n",
              "           0.0000, 0.0000, 0.0000, 0.0000, 0.0000, 0.0000, 0.0000, 0.0000,\n",
              "           0.0000, 0.0000, 0.0000, 0.0000],\n",
              "          [0.0000, 0.0000, 0.0000, 0.0000, 0.0000, 0.0000, 0.0000, 0.0000,\n",
              "           0.0000, 0.0510, 0.9529, 0.3647, 0.0000, 0.0000, 0.0000, 0.0000,\n",
              "           0.0000, 0.0000, 0.0000, 0.0000, 0.0000, 0.0000, 0.0000, 0.0000,\n",
              "           0.0000, 0.0000, 0.0000, 0.0000],\n",
              "          [0.0000, 0.0000, 0.0000, 0.0000, 0.0000, 0.0000, 0.0000, 0.0000,\n",
              "           0.0000, 0.3333, 0.9529, 0.0824, 0.0000, 0.0000, 0.0000, 0.0000,\n",
              "           0.0000, 0.0000, 0.0000, 0.0000, 0.0000, 0.0000, 0.0000, 0.0000,\n",
              "           0.0000, 0.0000, 0.0000, 0.0000],\n",
              "          [0.0000, 0.0000, 0.0000, 0.0000, 0.0000, 0.0000, 0.0000, 0.0000,\n",
              "           0.0000, 0.7412, 0.9255, 0.0000, 0.0000, 0.0000, 0.0000, 0.0000,\n",
              "           0.0000, 0.0000, 0.0000, 0.0000, 0.0000, 0.0000, 0.0000, 0.0000,\n",
              "           0.0000, 0.0000, 0.0000, 0.0000],\n",
              "          [0.0000, 0.0000, 0.0000, 0.0000, 0.0000, 0.0000, 0.0000, 0.0000,\n",
              "           0.0039, 0.8157, 0.6627, 0.0000, 0.0000, 0.0000, 0.0000, 0.0000,\n",
              "           0.0000, 0.2510, 0.5922, 0.5922, 0.5294, 0.2902, 0.0039, 0.0000,\n",
              "           0.0000, 0.0000, 0.0000, 0.0000],\n",
              "          [0.0000, 0.0000, 0.0000, 0.0000, 0.0000, 0.0000, 0.0000, 0.0000,\n",
              "           0.1020, 0.9961, 0.3490, 0.0000, 0.0000, 0.0000, 0.0000, 0.0235,\n",
              "           0.5569, 0.9961, 0.8784, 0.8275, 0.7098, 0.9451, 0.2745, 0.0000,\n",
              "           0.0000, 0.0000, 0.0000, 0.0000],\n",
              "          [0.0000, 0.0000, 0.0000, 0.0000, 0.0000, 0.0000, 0.0000, 0.0000,\n",
              "           0.1020, 0.9961, 0.2667, 0.0000, 0.0000, 0.0000, 0.0078, 0.6314,\n",
              "           0.9961, 0.4078, 0.0275, 0.0000, 0.0000, 0.3137, 0.8745, 0.0588,\n",
              "           0.0000, 0.0000, 0.0000, 0.0000],\n",
              "          [0.0000, 0.0000, 0.0000, 0.0000, 0.0000, 0.0000, 0.0000, 0.0000,\n",
              "           0.2235, 0.9961, 0.0588, 0.0000, 0.0000, 0.0000, 0.5882, 0.9059,\n",
              "           0.2667, 0.0039, 0.0000, 0.0000, 0.0000, 0.0353, 0.9059, 0.1020,\n",
              "           0.0000, 0.0000, 0.0000, 0.0000],\n",
              "          [0.0000, 0.0000, 0.0000, 0.0000, 0.0000, 0.0000, 0.0000, 0.0000,\n",
              "           0.3098, 0.9961, 0.0588, 0.0000, 0.0000, 0.0941, 0.8941, 0.2588,\n",
              "           0.0000, 0.0000, 0.0000, 0.0000, 0.0000, 0.0000, 0.7686, 0.3412,\n",
              "           0.0000, 0.0000, 0.0000, 0.0000],\n",
              "          [0.0000, 0.0000, 0.0000, 0.0000, 0.0000, 0.0000, 0.0000, 0.0000,\n",
              "           0.2863, 0.9961, 0.1686, 0.0000, 0.0000, 0.4549, 0.9843, 0.0275,\n",
              "           0.0000, 0.0000, 0.0000, 0.0000, 0.0000, 0.0000, 0.7686, 0.3922,\n",
              "           0.0000, 0.0000, 0.0000, 0.0000],\n",
              "          [0.0000, 0.0000, 0.0000, 0.0000, 0.0000, 0.0000, 0.0000, 0.0000,\n",
              "           0.0510, 0.9020, 0.5765, 0.0000, 0.0000, 0.2353, 1.0000, 0.2745,\n",
              "           0.0000, 0.0000, 0.0000, 0.0000, 0.0000, 0.0157, 0.8196, 0.3294,\n",
              "           0.0000, 0.0000, 0.0000, 0.0000],\n",
              "          [0.0000, 0.0000, 0.0000, 0.0000, 0.0000, 0.0000, 0.0000, 0.0000,\n",
              "           0.0000, 0.7961, 0.9098, 0.0157, 0.0000, 0.1647, 0.9922, 0.2902,\n",
              "           0.0000, 0.0000, 0.0000, 0.0000, 0.0000, 0.4471, 0.9137, 0.0667,\n",
              "           0.0000, 0.0000, 0.0000, 0.0000],\n",
              "          [0.0000, 0.0000, 0.0000, 0.0000, 0.0000, 0.0000, 0.0000, 0.0000,\n",
              "           0.0000, 0.3412, 0.9882, 0.5765, 0.0000, 0.0000, 0.6039, 0.8980,\n",
              "           0.5176, 0.4824, 0.4824, 0.2471, 0.3647, 0.9725, 0.2549, 0.0000,\n",
              "           0.0000, 0.0000, 0.0000, 0.0000],\n",
              "          [0.0000, 0.0000, 0.0000, 0.0000, 0.0000, 0.0000, 0.0000, 0.0000,\n",
              "           0.0000, 0.0000, 0.6627, 0.9765, 0.5373, 0.0902, 0.0314, 0.3137,\n",
              "           0.3922, 0.3961, 0.4196, 0.5686, 0.7529, 0.2000, 0.0000, 0.0000,\n",
              "           0.0000, 0.0000, 0.0000, 0.0000],\n",
              "          [0.0000, 0.0000, 0.0000, 0.0000, 0.0000, 0.0000, 0.0000, 0.0000,\n",
              "           0.0000, 0.0000, 0.0196, 0.5451, 0.9843, 0.8784, 0.5647, 0.4510,\n",
              "           0.4510, 0.7647, 0.9961, 0.7333, 0.1882, 0.0000, 0.0000, 0.0000,\n",
              "           0.0000, 0.0000, 0.0000, 0.0000],\n",
              "          [0.0000, 0.0000, 0.0000, 0.0000, 0.0000, 0.0000, 0.0000, 0.0000,\n",
              "           0.0000, 0.0000, 0.0000, 0.0000, 0.2157, 0.5529, 0.7961, 0.9569,\n",
              "           0.7059, 0.5059, 0.2627, 0.0078, 0.0000, 0.0000, 0.0000, 0.0000,\n",
              "           0.0000, 0.0000, 0.0000, 0.0000],\n",
              "          [0.0000, 0.0000, 0.0000, 0.0000, 0.0000, 0.0000, 0.0000, 0.0000,\n",
              "           0.0000, 0.0000, 0.0000, 0.0000, 0.0000, 0.0000, 0.0000, 0.0000,\n",
              "           0.0000, 0.0000, 0.0000, 0.0000, 0.0000, 0.0000, 0.0000, 0.0000,\n",
              "           0.0000, 0.0000, 0.0000, 0.0000],\n",
              "          [0.0000, 0.0000, 0.0000, 0.0000, 0.0000, 0.0000, 0.0000, 0.0000,\n",
              "           0.0000, 0.0000, 0.0000, 0.0000, 0.0000, 0.0000, 0.0000, 0.0000,\n",
              "           0.0000, 0.0000, 0.0000, 0.0000, 0.0000, 0.0000, 0.0000, 0.0000,\n",
              "           0.0000, 0.0000, 0.0000, 0.0000],\n",
              "          [0.0000, 0.0000, 0.0000, 0.0000, 0.0000, 0.0000, 0.0000, 0.0000,\n",
              "           0.0000, 0.0000, 0.0000, 0.0000, 0.0000, 0.0000, 0.0000, 0.0000,\n",
              "           0.0000, 0.0000, 0.0000, 0.0000, 0.0000, 0.0000, 0.0000, 0.0000,\n",
              "           0.0000, 0.0000, 0.0000, 0.0000],\n",
              "          [0.0000, 0.0000, 0.0000, 0.0000, 0.0000, 0.0000, 0.0000, 0.0000,\n",
              "           0.0000, 0.0000, 0.0000, 0.0000, 0.0000, 0.0000, 0.0000, 0.0000,\n",
              "           0.0000, 0.0000, 0.0000, 0.0000, 0.0000, 0.0000, 0.0000, 0.0000,\n",
              "           0.0000, 0.0000, 0.0000, 0.0000],\n",
              "          [0.0000, 0.0000, 0.0000, 0.0000, 0.0000, 0.0000, 0.0000, 0.0000,\n",
              "           0.0000, 0.0000, 0.0000, 0.0000, 0.0000, 0.0000, 0.0000, 0.0000,\n",
              "           0.0000, 0.0000, 0.0000, 0.0000, 0.0000, 0.0000, 0.0000, 0.0000,\n",
              "           0.0000, 0.0000, 0.0000, 0.0000],\n",
              "          [0.0000, 0.0000, 0.0000, 0.0000, 0.0000, 0.0000, 0.0000, 0.0000,\n",
              "           0.0000, 0.0000, 0.0000, 0.0000, 0.0000, 0.0000, 0.0000, 0.0000,\n",
              "           0.0000, 0.0000, 0.0000, 0.0000, 0.0000, 0.0000, 0.0000, 0.0000,\n",
              "           0.0000, 0.0000, 0.0000, 0.0000]]]),\n",
              " 6)"
            ]
          },
          "metadata": {},
          "execution_count": 7
        }
      ]
    },
    {
      "cell_type": "code",
      "source": [
        "plt.imshow(random[0][0], cmap='gray')"
      ],
      "metadata": {
        "colab": {
          "base_uri": "https://localhost:8080/",
          "height": 448
        },
        "id": "ypT5ABTd8YNO",
        "outputId": "2e012d7e-edfa-4b78-e7c4-a12870b3147d"
      },
      "execution_count": 8,
      "outputs": [
        {
          "output_type": "execute_result",
          "data": {
            "text/plain": [
              "<matplotlib.image.AxesImage at 0x78c837d840d0>"
            ]
          },
          "metadata": {},
          "execution_count": 8
        },
        {
          "output_type": "display_data",
          "data": {
            "text/plain": [
              "<Figure size 640x480 with 1 Axes>"
            ],
            "image/png": "[encoded data removed]"
          },
          "metadata": {}
        }
      ]
    },
    {
      "cell_type": "code",
      "source": [
        "model.eval()\n",
        "with torch.no_grad():\n",
        "    output = model(random[0].view(1, 1, 28, 28))\n",
        "output"
      ],
      "metadata": {
        "colab": {
          "base_uri": "https://localhost:8080/"
        },
        "id": "ljBs11b073ra",
        "outputId": "e74daba3-9805-4b8e-cc37-a73f7b81ac69"
      },
      "execution_count": 9,
      "outputs": [
        {
          "output_type": "execute_result",
          "data": {
            "text/plain": [
              "tensor([[ -39.8374,  -62.6402,  -53.8076,  -91.8910,  -26.2407,  -29.2221,\n",
              "            0.0000, -255.7115,  -51.0222, -157.0950]])"
            ]
          },
          "metadata": {},
          "execution_count": 9
        }
      ]
    },
    {
      "cell_type": "code",
      "source": [
        "output.argmax()"
      ],
      "metadata": {
        "colab": {
          "base_uri": "https://localhost:8080/"
        },
        "id": "t0BoYbWU_QCB",
        "outputId": "23f65efc-bdab-4e98-ae70-1798ac287558"
      },
      "execution_count": 11,
      "outputs": [
        {
          "output_type": "execute_result",
          "data": {
            "text/plain": [
              "tensor(6)"
            ]
          },
          "metadata": {},
          "execution_count": 11
        }
      ]
    },
    {
      "cell_type": "markdown",
      "source": [
        "So as we can see the pruned model has also done equally good on this random test data ."
      ],
      "metadata": {
        "id": "vpPvmIYr_dLv"
      }
    }
  ]
}